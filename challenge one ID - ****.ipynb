{
 "cells": [
  {
   "cell_type": "markdown",
   "metadata": {},
   "source": [
    "# Importing the libraries"
   ]
  },
  {
   "cell_type": "code",
   "execution_count": 891,
   "metadata": {},
   "outputs": [],
   "source": [
    "from requests import get\n",
    "from requests.exceptions import RequestException\n",
    "from contextlib import closing\n",
    "from bs4 import BeautifulSoup\n",
    "import pandas as pd\n",
    "import os, sys\n",
    "\n",
    "import fire\n",
    "\n",
    "import sys\n",
    "import os\n",
    "import json\n",
    "import matplotlib.pyplot as plt\n",
    "import re\n",
    "import string\n",
    "\n",
    "import matplotlib.dates as mdates\n",
    "import seaborn as sns\n",
    "\n",
    "# to view all columns\n",
    "pd.set_option(\"display.max.columns\", None)\n",
    "\n",
    "import tweepy\n",
    "from tweepy.streaming import StreamListener\n",
    "from tweepy import OAuthHandler\n",
    "from tweepy import Stream\n",
    "from tweepy import API\n",
    "from tweepy import Cursor\n",
    "from datetime import datetime, date, time, timedelta\n",
    "from collections import Counter\n",
    "import sys\n",
    "\n",
    "\n",
    "import preprocessor as p"
   ]
  },
  {
   "cell_type": "markdown",
   "metadata": {},
   "source": [
    "# Scrapping user handles from the 2 html sites"
   ]
  },
  {
   "cell_type": "code",
   "execution_count": 10,
   "metadata": {},
   "outputs": [],
   "source": [
    "#%%writefile ../pyscrap_url.py\n",
    "\n",
    "def simple_get(url):\n",
    "    \"\"\"\n",
    "    Attempts to get the content at `url` by making an HTTP GET request.\n",
    "    If the content-type of response is some kind of HTML/XML, return the\n",
    "    text content, otherwise return None.\n",
    "    \"\"\"\n",
    "    try:\n",
    "        with closing(get(url, stream=True)) as resp:\n",
    "            if is_good_response(resp):\n",
    "                return resp.content  #.encode(BeautifulSoup.original_encoding)\n",
    "            else:\n",
    "                return None\n",
    "\n",
    "    except RequestException as e:\n",
    "        log_error('Error during requests to {0} : {1}'.format(url, str(e)))\n",
    "        return None\n",
    "\n",
    "\n",
    "def is_good_response(resp):\n",
    "    \"\"\"\n",
    "    Returns True if the response seems to be HTML, False otherwise.\n",
    "    \"\"\"\n",
    "    content_type = resp.headers['Content-Type'].lower()\n",
    "    return (resp.status_code == 200 \n",
    "            and content_type is not None \n",
    "            and content_type.find('html') > -1)\n",
    "\n",
    "\n",
    "def log_error(e):\n",
    "    \"\"\"\n",
    "    It is always a good idea to log errors. \n",
    "    This function just prints them, but you can\n",
    "    make it do anything.\n",
    "    \"\"\"\n",
    "    print(e)\n",
    "    \n",
    "def get_elements(url, tag='',search={}, fname=None):\n",
    "    \"\"\"\n",
    "    Downloads a page specified by the url parameter\n",
    "    and returns a list of strings, one per tag element\n",
    "    \"\"\"\n",
    "    \n",
    "    if isinstance(url,str):\n",
    "        response = simple_get(url)\n",
    "    else:\n",
    "        #if already it is a loaded html page\n",
    "        response = url\n",
    "\n",
    "    if response is not None:\n",
    "        html = BeautifulSoup(response, 'html.parser')\n",
    "        \n",
    "        res = []\n",
    "        if tag:    \n",
    "            for li in html.select(tag):\n",
    "                for name in li.text.split('\\n'):\n",
    "                    if len(name) > 0:\n",
    "                        res.append(name.strip())\n",
    "                       \n",
    "                \n",
    "        if search:\n",
    "            soup = html            \n",
    "            \n",
    "            \n",
    "            r = ''\n",
    "            if 'find' in search.keys():\n",
    "                print('findaing',search['find'])\n",
    "                soup = soup.find(**search['find'])\n",
    "                r = soup\n",
    "\n",
    "                \n",
    "            if 'find_all' in search.keys():\n",
    "                print('findaing all of',search['find_all'])\n",
    "                r = soup.find_all(**search['find_all'])\n",
    "   \n",
    "            if r:\n",
    "                for x in list(r):\n",
    "                    if len(x) > 0:\n",
    "                        res.extend(x)\n",
    "            \n",
    "        return res\n",
    "    \n",
    "def get_tag_elements(url, tag='h2'):\n",
    "    \"\"\"\n",
    "    Downloads a page specified by the url parameter\n",
    "    and returns a list of strings, one per tag element\n",
    "    \"\"\"\n",
    "    \n",
    "    response = simple_get(url)\n",
    "\n",
    "    if response is not None:\n",
    "        html = BeautifulSoup(response, 'html.parser')\n",
    "        names = set()\n",
    "        for li in html.select(tag):\n",
    "            for name in li.text.split('\\n'):\n",
    "                if len(name) > 0:\n",
    "                    names.add(name.strip())\n",
    "        return list(names)\n",
    "\n",
    "    # Raise an exception if we failed to get any data from the url\n",
    "    raise Exception('Error retrieving contents at {}'.format(url)) \n",
    "    \n",
    "    \n",
    "if get_ipython().__class__.__name__ == '__main__':\n",
    "    fire(get_tag_elements)"
   ]
  },
  {
   "cell_type": "markdown",
   "metadata": {},
   "source": [
    "## 1. 100 most influencial\n",
    "scrapping from the Africa Freak website\n"
   ]
  },
  {
   "cell_type": "code",
   "execution_count": 11,
   "metadata": {},
   "outputs": [
    {
     "data": {
      "text/plain": [
       "['100. Jeffrey Gettleman (@gettleman)',\n",
       " '99. Africa24 Media (@a24media)',\n",
       " '98. Scapegoat (@andiMakinana)',\n",
       " '97. Africa Check (@AfricaCheck)']"
      ]
     },
     "execution_count": 11,
     "metadata": {},
     "output_type": "execute_result"
    }
   ],
   "source": [
    "# scrapping from the Africa Freak website\n",
    "url= 'https://africafreak.com/100-most-influential-twitter-users-in-africa'\n",
    "url = simple_get(url)\n",
    "top_100 = get_elements(url, tag = 'h2', search  = {})\n",
    "top_100[0:4]"
   ]
  },
  {
   "cell_type": "code",
   "execution_count": 12,
   "metadata": {},
   "outputs": [],
   "source": [
    "#make a list of numbers from the data\n",
    "splitt = [entry.split('.') for entry in top_100]\n",
    "numbers = [list[0] for list in splitt]\n",
    "\n",
    "#make a list of handles from the data\n",
    "splitt = [entry.split('(') for entry in top_100]\n",
    "users = [list[-1] for list in splitt]\n",
    "users = [entry.split(')') for entry in users]\n",
    "users = [list[0] for list in users]\n",
    "\n",
    "#make a list of user names from the data\n",
    "names = [entry.split('.') for entry in top_100]\n",
    "names = [list[-1] for list in names]\n",
    "names = [entry.split('(') for entry in names]\n",
    "names = [list[0] for list in names]\n"
   ]
  },
  {
   "cell_type": "code",
   "execution_count": 13,
   "metadata": {},
   "outputs": [
    {
     "name": "stdout",
     "output_type": "stream",
     "text": [
      "last four ranks: ['100', '99', '98', '97']\n",
      "last four handles: ['@gettleman', '@a24media', '@andiMakinana', '@AfricaCheck']\n",
      "last four user names: [' Jeffrey Gettleman ', ' Africa24 Media ', ' Scapegoat ', ' Africa Check ']\n"
     ]
    }
   ],
   "source": [
    "print('last four ranks:', numbers[0:4])\n",
    "print('last four handles:', users[0:4])\n",
    "print('last four user names:', names[0:4])"
   ]
  },
  {
   "cell_type": "markdown",
   "metadata": {},
   "source": [
    "### Creating a dataframe from the lists generated"
   ]
  },
  {
   "cell_type": "code",
   "execution_count": 14,
   "metadata": {},
   "outputs": [
    {
     "data": {
      "text/html": [
       "<div>\n",
       "<style scoped>\n",
       "    .dataframe tbody tr th:only-of-type {\n",
       "        vertical-align: middle;\n",
       "    }\n",
       "\n",
       "    .dataframe tbody tr th {\n",
       "        vertical-align: top;\n",
       "    }\n",
       "\n",
       "    .dataframe thead th {\n",
       "        text-align: right;\n",
       "    }\n",
       "</style>\n",
       "<table border=\"1\" class=\"dataframe\">\n",
       "  <thead>\n",
       "    <tr style=\"text-align: right;\">\n",
       "      <th></th>\n",
       "      <th>users</th>\n",
       "      <th>names</th>\n",
       "      <th>ranks</th>\n",
       "    </tr>\n",
       "  </thead>\n",
       "  <tbody>\n",
       "    <tr>\n",
       "      <td>95</td>\n",
       "      <td>@Julius_S_Malema</td>\n",
       "      <td>Julius Sello Malema</td>\n",
       "      <td>5</td>\n",
       "    </tr>\n",
       "    <tr>\n",
       "      <td>96</td>\n",
       "      <td>@News24</td>\n",
       "      <td>News24</td>\n",
       "      <td>4</td>\n",
       "    </tr>\n",
       "    <tr>\n",
       "      <td>97</td>\n",
       "      <td>@SAPresident</td>\n",
       "      <td>Zuma</td>\n",
       "      <td>3</td>\n",
       "    </tr>\n",
       "    <tr>\n",
       "      <td>98</td>\n",
       "      <td>@GarethCliff</td>\n",
       "      <td>Gareth Cliff</td>\n",
       "      <td>2</td>\n",
       "    </tr>\n",
       "    <tr>\n",
       "      <td>99</td>\n",
       "      <td>@Trevornoah</td>\n",
       "      <td>Trevor Noah</td>\n",
       "      <td>1</td>\n",
       "    </tr>\n",
       "  </tbody>\n",
       "</table>\n",
       "</div>"
      ],
      "text/plain": [
       "               users                  names ranks\n",
       "95  @Julius_S_Malema   Julius Sello Malema      5\n",
       "96           @News24                News24      4\n",
       "97      @SAPresident                  Zuma      3\n",
       "98      @GarethCliff          Gareth Cliff      2\n",
       "99       @Trevornoah           Trevor Noah      1"
      ]
     },
     "execution_count": 14,
     "metadata": {},
     "output_type": "execute_result"
    }
   ],
   "source": [
    "data = {'users':users, 'names':names, 'ranks':numbers}\n",
    "top_100 = pd.DataFrame(data)\n",
    "top_100.drop(top_100.tail(5).index,inplace=True)\n",
    "top_100.to_csv('top_100.csv')\n",
    "top_100.tail()"
   ]
  },
  {
   "cell_type": "code",
   "execution_count": 15,
   "metadata": {},
   "outputs": [
    {
     "data": {
      "text/html": [
       "<div>\n",
       "<style scoped>\n",
       "    .dataframe tbody tr th:only-of-type {\n",
       "        vertical-align: middle;\n",
       "    }\n",
       "\n",
       "    .dataframe tbody tr th {\n",
       "        vertical-align: top;\n",
       "    }\n",
       "\n",
       "    .dataframe thead th {\n",
       "        text-align: right;\n",
       "    }\n",
       "</style>\n",
       "<table border=\"1\" class=\"dataframe\">\n",
       "  <thead>\n",
       "    <tr style=\"text-align: right;\">\n",
       "      <th></th>\n",
       "      <th>users</th>\n",
       "      <th>names</th>\n",
       "      <th>ranks</th>\n",
       "    </tr>\n",
       "  </thead>\n",
       "  <tbody>\n",
       "    <tr>\n",
       "      <td>90</td>\n",
       "      <td>@Computicket</td>\n",
       "      <td>Computicket</td>\n",
       "      <td>10</td>\n",
       "    </tr>\n",
       "    <tr>\n",
       "      <td>91</td>\n",
       "      <td>@loyisogola</td>\n",
       "      <td>loyiso gola</td>\n",
       "      <td>9</td>\n",
       "    </tr>\n",
       "    <tr>\n",
       "      <td>92</td>\n",
       "      <td>@5FM</td>\n",
       "      <td>5FM</td>\n",
       "      <td>8</td>\n",
       "    </tr>\n",
       "    <tr>\n",
       "      <td>93</td>\n",
       "      <td>@mailandguardian</td>\n",
       "      <td>mailandguardian</td>\n",
       "      <td>7</td>\n",
       "    </tr>\n",
       "    <tr>\n",
       "      <td>94</td>\n",
       "      <td>@helenzille</td>\n",
       "      <td>Helen Zille</td>\n",
       "      <td>6</td>\n",
       "    </tr>\n",
       "    <tr>\n",
       "      <td>95</td>\n",
       "      <td>@Julius_S_Malema</td>\n",
       "      <td>Julius Sello Malema</td>\n",
       "      <td>5</td>\n",
       "    </tr>\n",
       "    <tr>\n",
       "      <td>96</td>\n",
       "      <td>@News24</td>\n",
       "      <td>News24</td>\n",
       "      <td>4</td>\n",
       "    </tr>\n",
       "    <tr>\n",
       "      <td>97</td>\n",
       "      <td>@SAPresident</td>\n",
       "      <td>Zuma</td>\n",
       "      <td>3</td>\n",
       "    </tr>\n",
       "    <tr>\n",
       "      <td>98</td>\n",
       "      <td>@GarethCliff</td>\n",
       "      <td>Gareth Cliff</td>\n",
       "      <td>2</td>\n",
       "    </tr>\n",
       "    <tr>\n",
       "      <td>99</td>\n",
       "      <td>@Trevornoah</td>\n",
       "      <td>Trevor Noah</td>\n",
       "      <td>1</td>\n",
       "    </tr>\n",
       "  </tbody>\n",
       "</table>\n",
       "</div>"
      ],
      "text/plain": [
       "               users                  names ranks\n",
       "90      @Computicket           Computicket     10\n",
       "91       @loyisogola           loyiso gola      9\n",
       "92              @5FM                   5FM      8\n",
       "93  @mailandguardian       mailandguardian      7\n",
       "94       @helenzille           Helen Zille      6\n",
       "95  @Julius_S_Malema   Julius Sello Malema      5\n",
       "96           @News24                News24      4\n",
       "97      @SAPresident                  Zuma      3\n",
       "98      @GarethCliff          Gareth Cliff      2\n",
       "99       @Trevornoah           Trevor Noah      1"
      ]
     },
     "execution_count": 15,
     "metadata": {},
     "output_type": "execute_result"
    }
   ],
   "source": [
    "# top 10 influencers\n",
    "influencers = top_100.tail(10)\n",
    "influencers.to_csv('top10_from_top100.csv')\n",
    "influencers"
   ]
  },
  {
   "cell_type": "markdown",
   "metadata": {},
   "source": [
    "## 2. African Leaders response to covid\n",
    "scrapping from the Atlantic Council website"
   ]
  },
  {
   "cell_type": "code",
   "execution_count": 885,
   "metadata": {},
   "outputs": [
    {
     "data": {
      "text/plain": [
       "['Namibia',\n",
       " 'Fellow Namibians, I declared a State of Emergency on #COVID19. Cabinet approved additonal measures and responses to contain the spread of the Coronavirus. pic.twitter.com/OsjrguArxf— Hage G. Geingob (@hagegeingob) March 18, 2020',\n",
       " 'Seychelles',\n",
       " '#COVID19measuresSC #PrivateSector \"Government will guarantee the salaries of all employees in the private sector for the months of April, May and June. A total of SCR1.2 billion has been budgeted for this intervention. Government will not approve any redundancies.\"— Seychelles Ministry of Finance (@FinanceSC) March 20, 2020',\n",
       " 'South Africa',\n",
       " 'The Minister for Cooperative Governance & Traditional Affairs (COGTA) has, in terms of section 3 of the Disaster Management Act, 2002 (Act No. 57 of 2002), made the and gazetted regulations to deal with the spread of Regulations in the Schedule. #COVID19 #CoronaVirusSA pic.twitter.com/3iPRnVebcs— PresidencyZA (@PresidencyZA) March 19, 2020',\n",
       " 'Zambia',\n",
       " 'Join the #SafeHands\\xa0 Challenge. The key is preventing the spread of #COVID19 @Dora_Siliya @ChitaluChilufy3 @noalaskinner @coumbagadio_ZM @unicefzambia @UNZambia pic.twitter.com/vLoc72v5Np— Ministry of Health Zambia (@mohzambia) March 18, 2020',\n",
       " 'Zimbabwe',\n",
       " 'I urge my fellow Zimbabweans to maintain excellent levels of personal hygiene. Wash your hands thoroughly with soap, cover your nose & mouth with a tissue when you cough, & avoid unnecessary travel abroad.  We must keep our nation, safe, secure & healthy.— President of Zimbabwe (@edmnangagwa) March 12, 2020',\n",
       " 'Back to top',\n",
       " 'East Africa:',\n",
       " 'Djibouti',\n",
       " '#COVID19DJ : FERMETURE DES MOSQUÉESVoici Communiqué du Ministère des affaires musulmanes et des biens Warkfs. pic.twitter.com/AQ2kQP254j— MinSantédj (@MinSantedj) March 20, 2020',\n",
       " 'Eritrea',\n",
       " 'The Ministry of Health announced this evening the first confirmed case of a Coronavirus patient who arrived at Asmara International Airport from Norway with Fly Dubai at 7:00 a.m. LT this morning.  The 39-year old patient is an Eritrean national with permanent residence in Norway— Yemane G. Meskel (@hawelti) March 21, 2020',\n",
       " 'Ethiopia',\n",
       " 'https://twitter.com/AbiyAhmedAli/status/1240291553056260099',\n",
       " 'Kenya',\n",
       " 'Please join His Excellency President Uhuru Kenyatta this Saturday, 21st March 2020 at 12 noon for a broadcast prayer service to mark the National Day of Prayer on the Coronavirus pandemic. The Service will be led by a cross-section of religious leaders. pic.twitter.com/kDZPDUpeGz— State House Kenya (@StateHouseKenya) March 20, 2020']"
      ]
     },
     "execution_count": 885,
     "metadata": {},
     "output_type": "execute_result"
    }
   ],
   "source": [
    "# scrapping from the Atlantic Council website\n",
    "url= 'https://www.atlanticcouncil.org/blogs/africasource/african-leaders-respond-to-coronavirus-on-twitter/'\n",
    "names = get_elements(url, tag ='a', search={'class':'css-4rbku5 css-18t94o4 css-1dbjc4n r-1loqt21 r-1wbh5a2 r-dnmrzs r-1ny4l3l'})\n",
    "names = get_elements(url, tag ='div', search={})\n",
    "names[80:100]"
   ]
  },
  {
   "cell_type": "code",
   "execution_count": 886,
   "metadata": {},
   "outputs": [
    {
     "data": {
      "text/plain": [
       "['@EswatiniGovern1',\n",
       " '@MalawiGovt',\n",
       " '@hagegeingob',\n",
       " '@FinanceSC',\n",
       " '@PresidencyZA',\n",
       " '@mohzambia',\n",
       " '@edmnangagwa',\n",
       " '@MinSantedj',\n",
       " '@hawelti',\n",
       " '@StateHouseKenya',\n",
       " '@PaulKagame',\n",
       " '@M_Farmaajo',\n",
       " '@SouthSudanGov',\n",
       " '@SudanPMHamdok',\n",
       " '@TZSpokesperson',\n",
       " '@KagutaMuseveni',\n",
       " '@angola_Mirex',\n",
       " '@willynyamitwe',\n",
       " '@Cherif_MZ',\n",
       " '@Presidence_RDC']"
      ]
     },
     "execution_count": 886,
     "metadata": {},
     "output_type": "execute_result"
    }
   ],
   "source": [
    "lists = []\n",
    "for elements in names:\n",
    "    res = re.findall(r'\\(.*?\\)', elements)\n",
    "    lists.append(res)\n",
    "\n",
    "handles = []\n",
    "for l in lists:\n",
    "    for element in l:\n",
    "        if element.startswith('(@'):\n",
    "            handles.append(element.strip('(,)'))\n",
    "handles[:20]"
   ]
  },
  {
   "cell_type": "markdown",
   "metadata": {},
   "source": [
    "### DataFrame from the list "
   ]
  },
  {
   "cell_type": "code",
   "execution_count": 889,
   "metadata": {},
   "outputs": [
    {
     "name": "stdout",
     "output_type": "stream",
     "text": [
      "            handles\n",
      "0  @EswatiniGovern1\n",
      "1       @MalawiGovt\n",
      "2      @hagegeingob\n",
      "3        @FinanceSC\n",
      "4     @PresidencyZA\n",
      "(216, 1)\n"
     ]
    }
   ],
   "source": [
    "data = {'handles':handles}\n",
    "leaders = pd.DataFrame(data)\n",
    "leaders.to_csv('leaders response.csv')\n",
    "print(leaders.head())\n",
    "print(leaders.shape)"
   ]
  },
  {
   "cell_type": "code",
   "execution_count": 890,
   "metadata": {
    "scrolled": true
   },
   "outputs": [
    {
     "data": {
      "text/html": [
       "<div>\n",
       "<style scoped>\n",
       "    .dataframe tbody tr th:only-of-type {\n",
       "        vertical-align: middle;\n",
       "    }\n",
       "\n",
       "    .dataframe tbody tr th {\n",
       "        vertical-align: top;\n",
       "    }\n",
       "\n",
       "    .dataframe thead th {\n",
       "        text-align: right;\n",
       "    }\n",
       "</style>\n",
       "<table border=\"1\" class=\"dataframe\">\n",
       "  <thead>\n",
       "    <tr style=\"text-align: right;\">\n",
       "      <th></th>\n",
       "      <th>handles</th>\n",
       "    </tr>\n",
       "  </thead>\n",
       "  <tbody>\n",
       "    <tr>\n",
       "      <td>0</td>\n",
       "      <td>@EswatiniGovern1</td>\n",
       "    </tr>\n",
       "    <tr>\n",
       "      <td>1</td>\n",
       "      <td>@MalawiGovt</td>\n",
       "    </tr>\n",
       "    <tr>\n",
       "      <td>2</td>\n",
       "      <td>@hagegeingob</td>\n",
       "    </tr>\n",
       "    <tr>\n",
       "      <td>3</td>\n",
       "      <td>@FinanceSC</td>\n",
       "    </tr>\n",
       "    <tr>\n",
       "      <td>4</td>\n",
       "      <td>@PresidencyZA</td>\n",
       "    </tr>\n",
       "    <tr>\n",
       "      <td>5</td>\n",
       "      <td>@mohzambia</td>\n",
       "    </tr>\n",
       "    <tr>\n",
       "      <td>6</td>\n",
       "      <td>@edmnangagwa</td>\n",
       "    </tr>\n",
       "    <tr>\n",
       "      <td>7</td>\n",
       "      <td>@MinSantedj</td>\n",
       "    </tr>\n",
       "    <tr>\n",
       "      <td>8</td>\n",
       "      <td>@hawelti</td>\n",
       "    </tr>\n",
       "    <tr>\n",
       "      <td>9</td>\n",
       "      <td>@StateHouseKenya</td>\n",
       "    </tr>\n",
       "  </tbody>\n",
       "</table>\n",
       "</div>"
      ],
      "text/plain": [
       "            handles\n",
       "0  @EswatiniGovern1\n",
       "1       @MalawiGovt\n",
       "2      @hagegeingob\n",
       "3        @FinanceSC\n",
       "4     @PresidencyZA\n",
       "5        @mohzambia\n",
       "6      @edmnangagwa\n",
       "7       @MinSantedj\n",
       "8          @hawelti\n",
       "9  @StateHouseKenya"
      ]
     },
     "execution_count": 890,
     "metadata": {},
     "output_type": "execute_result"
    }
   ],
   "source": [
    "top10_leaders = leaders.head(10)\n",
    "top10_leaders.to_csv('top10_leaders.csv')\n",
    "top10_leaders"
   ]
  },
  {
   "cell_type": "markdown",
   "metadata": {},
   "source": [
    "# Twitter scrapping of the 100 influencers and African leaders."
   ]
  },
  {
   "cell_type": "code",
   "execution_count": 892,
   "metadata": {},
   "outputs": [],
   "source": [
    "consumer_key = os.environ.get('consumer_key')\n",
    "consumer_secret = os.environ.get('consumer_secret')\n",
    "access_token = os.environ.get('access_token')\n",
    "access_token_secret = os.environ.get('access_token_secret')\n",
    "\n",
    "auth = OAuthHandler(consumer_key, consumer_secret)\n",
    "auth.set_access_token(access_token, access_token_secret)\n",
    "auth_api = API(auth)\n",
    "\n",
    "df = pd.DataFrame(columns=['screen_name','description','number_of_tweets','following', 'followers',\n",
    "                          'likes', 'retweets', 'hashtags', 'mentions'])\n",
    "def get_it(account_list):\n",
    "    for target in account_list: \n",
    "        item = auth_api.get_user(target)\n",
    "        name = item.name\n",
    "        screen_name = item.screen_name\n",
    "        description = item.description\n",
    "        number_of_tweets = item.statuses_count\n",
    "        following = item.friends_count\n",
    "        followers = item.followers_count\n",
    "        \n",
    "        # age of account\n",
    "        account_created_date = item.created_at\n",
    "        delta = datetime.utcnow() - account_created_date\n",
    "        account_age_days = delta.days\n",
    "        if account_age_days > 0:\n",
    "            avg_tweets_per_day = float(number_of_tweets)/float(account_age_days)\n",
    "\n",
    "\n",
    "        # tweets (hashtags and mentions)\n",
    "        # making them global in order to intergrate them to the df later (or use another method)\n",
    "        global hashtags, mentions, replies, comments  \n",
    "        hashtags = []\n",
    "        mentions = []\n",
    "        comments = []\n",
    "        retweet_count = []\n",
    "        likes_count = []\n",
    "        replies = []\n",
    "\n",
    "        tweet_count = 0\n",
    "        end_date = datetime.utcnow() - timedelta(days=180)\n",
    "        for status in Cursor(auth_api.user_timeline, id=target, include_rts=False).items():                \n",
    "            tweet_count += 1\n",
    "            if hasattr(status, \"entities\"):\n",
    "                entities = status.entities\n",
    "\n",
    "    #     process_status(status)\n",
    "            #hashtags\n",
    "            if \"hashtags\" in entities:\n",
    "                for ent in entities[\"hashtags\"]:\n",
    "                    if ent is not None:\n",
    "                        if \"text\" in ent:\n",
    "                            hashtag = ent[\"text\"]\n",
    "                            if hashtag is not None:\n",
    "                                  hashtags.append(hashtag)\n",
    "\n",
    "            #mentions  (will fetch other users but will later use to do mention counts between the involved users)                   \n",
    "            if \"user_mentions\" in entities:\n",
    "                for ent in entities[\"user_mentions\"]:\n",
    "                    if ent is not None:\n",
    "                        if \"screen_name\" in ent:\n",
    "                            name = ent[\"screen_name\"]\n",
    "                            if name == target:\n",
    "                                if name is not None:\n",
    "                                    mentions.append(name)\n",
    "\n",
    "            # replies count                  \n",
    "            if hasattr(status, \"reply_count\"):\n",
    "                comment = status.reply_count\n",
    "                if comment is not None:\n",
    "                    comments.append(comment)\n",
    "\n",
    "\n",
    "            # retweets count     \n",
    "            if hasattr(status, \"retweet_count\"):\n",
    "                retweets = status.retweet_count\n",
    "                if retweets is not None:\n",
    "                    retweet_count.append(retweets)\n",
    "\n",
    "\n",
    "            # likes count     \n",
    "            if hasattr(status, \"favorite_count\"):\n",
    "                likes = status.favorite_count \n",
    "                if likes is not None:\n",
    "                    likes_count.append(likes)\n",
    "\n",
    "            # replies\n",
    "            if hasattr(status, 'in_reply_to_status_id_str'):\n",
    "                if (status.in_reply_to_status_id_str == status.id_str):\n",
    "                    replies.append(status.text)\n",
    "\n",
    "\n",
    "\n",
    "            # break if tweets are older than end date                 \n",
    "            if status.created_at < end_date:\n",
    "                break\n",
    "          \n",
    "            df.loc[target, ['screen_name']] = screen_name\n",
    "            df.loc[target, ['description']] = description\n",
    "            df.loc[target, ['number_of_tweets']] = number_of_tweets\n",
    "            df.loc[target, ['following']] = following\n",
    "            df.loc[target, ['followers']] = followers\n",
    "            df.loc[target, ['likes']] = sum(likes_count)\n",
    "            df.loc[target, ['retweets']] = sum(retweet_count)\n",
    "#             df.loc[target, ['hashtags']] = hashtags\n",
    "#             df.loc[target, ['mentions']] = mentions\n",
    "            \n",
    "#     print(hashtags)  \n",
    "    return df"
   ]
  },
  {
   "cell_type": "markdown",
   "metadata": {},
   "source": [
    "## 1. Get a list of active users from the 2 dataframes"
   ]
  },
  {
   "cell_type": "code",
   "execution_count": 897,
   "metadata": {
    "scrolled": true
   },
   "outputs": [
    {
     "data": {
      "text/plain": [
       "['gettleman',\n",
       " 'a24media',\n",
       " 'AndiMakinana',\n",
       " 'AfricaCheck',\n",
       " 'JamesCopnall',\n",
       " 'oafrica',\n",
       " 'PatrickNgowi',\n",
       " 'stateafrica',\n",
       " 'Moadow',\n",
       " 'BrendanSAfrica']"
      ]
     },
     "execution_count": 897,
     "metadata": {},
     "output_type": "execute_result"
    }
   ],
   "source": [
    "the_100 = top_100.users.unique()\n",
    "the_leaders = leaders.handles.unique()\n",
    "l1 = the_100.astype(str).tolist() \n",
    "l2 = the_leaders.astype(str).tolist()\n",
    "accounts = l1 + l2\n",
    "\n",
    "# take care of private, suspended or deleted accounts\n",
    "names = []\n",
    "for user in accounts:\n",
    "    try:\n",
    "        u=auth_api.get_user(user)\n",
    "        names.append(u.screen_name)\n",
    "    except Exception:\n",
    "            pass\n",
    "names[:10]    "
   ]
  },
  {
   "cell_type": "markdown",
   "metadata": {},
   "source": [
    "## 2. Fetch their twitter data."
   ]
  },
  {
   "cell_type": "code",
   "execution_count": 259,
   "metadata": {},
   "outputs": [],
   "source": [
    "data = get_it(names)\n",
    "data.to_csv('twitter_data.csv')"
   ]
  },
  {
   "cell_type": "code",
   "execution_count": 902,
   "metadata": {},
   "outputs": [],
   "source": [
    "# data = data.drop_duplicates(subset='screen_name')"
   ]
  },
  {
   "cell_type": "code",
   "execution_count": 903,
   "metadata": {
    "scrolled": true
   },
   "outputs": [
    {
     "data": {
      "text/html": [
       "<div>\n",
       "<style scoped>\n",
       "    .dataframe tbody tr th:only-of-type {\n",
       "        vertical-align: middle;\n",
       "    }\n",
       "\n",
       "    .dataframe tbody tr th {\n",
       "        vertical-align: top;\n",
       "    }\n",
       "\n",
       "    .dataframe thead th {\n",
       "        text-align: right;\n",
       "    }\n",
       "</style>\n",
       "<table border=\"1\" class=\"dataframe\">\n",
       "  <thead>\n",
       "    <tr style=\"text-align: right;\">\n",
       "      <th></th>\n",
       "      <th>Unnamed: 0</th>\n",
       "      <th>Unnamed: 0.1</th>\n",
       "      <th>screen_name</th>\n",
       "      <th>description</th>\n",
       "      <th>number_of_tweets</th>\n",
       "      <th>following</th>\n",
       "      <th>followers</th>\n",
       "      <th>likes</th>\n",
       "      <th>retweets</th>\n",
       "      <th>hashtags</th>\n",
       "      <th>mentions</th>\n",
       "    </tr>\n",
       "  </thead>\n",
       "  <tbody>\n",
       "    <tr>\n",
       "      <td>0</td>\n",
       "      <td>0</td>\n",
       "      <td>@gettleman</td>\n",
       "      <td>gettleman</td>\n",
       "      <td>South Asia bureau chief for the New York Times...</td>\n",
       "      <td>3766</td>\n",
       "      <td>37</td>\n",
       "      <td>25701</td>\n",
       "      <td>9267</td>\n",
       "      <td>3371</td>\n",
       "      <td>NaN</td>\n",
       "      <td>NaN</td>\n",
       "    </tr>\n",
       "    <tr>\n",
       "      <td>1</td>\n",
       "      <td>1</td>\n",
       "      <td>@a24media</td>\n",
       "      <td>a24media</td>\n",
       "      <td>Africa 24 produces compelling content that mak...</td>\n",
       "      <td>16852</td>\n",
       "      <td>3060</td>\n",
       "      <td>31294</td>\n",
       "      <td>603</td>\n",
       "      <td>194</td>\n",
       "      <td>NaN</td>\n",
       "      <td>NaN</td>\n",
       "    </tr>\n",
       "    <tr>\n",
       "      <td>2</td>\n",
       "      <td>2</td>\n",
       "      <td>@andiMakinana</td>\n",
       "      <td>AndiMakinana</td>\n",
       "      <td>In pursuit of scoops. I do not write headlines...</td>\n",
       "      <td>142183</td>\n",
       "      <td>2837</td>\n",
       "      <td>101172</td>\n",
       "      <td>73785</td>\n",
       "      <td>34232</td>\n",
       "      <td>NaN</td>\n",
       "      <td>NaN</td>\n",
       "    </tr>\n",
       "    <tr>\n",
       "      <td>3</td>\n",
       "      <td>3</td>\n",
       "      <td>@AfricaCheck</td>\n",
       "      <td>AfricaCheck</td>\n",
       "      <td>Africa's first independent fact-checking websi...</td>\n",
       "      <td>27294</td>\n",
       "      <td>4593</td>\n",
       "      <td>68029</td>\n",
       "      <td>7209</td>\n",
       "      <td>6857</td>\n",
       "      <td>NaN</td>\n",
       "      <td>NaN</td>\n",
       "    </tr>\n",
       "    <tr>\n",
       "      <td>4</td>\n",
       "      <td>4</td>\n",
       "      <td>@JamesCopnall</td>\n",
       "      <td>JamesCopnall</td>\n",
       "      <td>BBC reporter + presenter. Author A Poisonous T...</td>\n",
       "      <td>19434</td>\n",
       "      <td>5046</td>\n",
       "      <td>21960</td>\n",
       "      <td>908</td>\n",
       "      <td>161</td>\n",
       "      <td>NaN</td>\n",
       "      <td>NaN</td>\n",
       "    </tr>\n",
       "  </tbody>\n",
       "</table>\n",
       "</div>"
      ],
      "text/plain": [
       "   Unnamed: 0   Unnamed: 0.1   screen_name  \\\n",
       "0           0     @gettleman     gettleman   \n",
       "1           1      @a24media      a24media   \n",
       "2           2  @andiMakinana  AndiMakinana   \n",
       "3           3   @AfricaCheck   AfricaCheck   \n",
       "4           4  @JamesCopnall  JamesCopnall   \n",
       "\n",
       "                                         description  number_of_tweets  \\\n",
       "0  South Asia bureau chief for the New York Times...              3766   \n",
       "1  Africa 24 produces compelling content that mak...             16852   \n",
       "2  In pursuit of scoops. I do not write headlines...            142183   \n",
       "3  Africa's first independent fact-checking websi...             27294   \n",
       "4  BBC reporter + presenter. Author A Poisonous T...             19434   \n",
       "\n",
       "   following  followers  likes  retweets  hashtags  mentions  \n",
       "0         37      25701   9267      3371       NaN       NaN  \n",
       "1       3060      31294    603       194       NaN       NaN  \n",
       "2       2837     101172  73785     34232       NaN       NaN  \n",
       "3       4593      68029   7209      6857       NaN       NaN  \n",
       "4       5046      21960    908       161       NaN       NaN  "
      ]
     },
     "execution_count": 903,
     "metadata": {},
     "output_type": "execute_result"
    }
   ],
   "source": [
    "data.head()"
   ]
  },
  {
   "cell_type": "markdown",
   "metadata": {},
   "source": [
    "## 3. Analysis bits."
   ]
  },
  {
   "cell_type": "markdown",
   "metadata": {},
   "source": [
    "### a). Popularity scores\n",
    "\n",
    "Using the formulae provided in the week 1 challenge document. ***popularity_score = #retweets + #likes***"
   ]
  },
  {
   "cell_type": "code",
   "execution_count": 909,
   "metadata": {},
   "outputs": [
    {
     "data": {
      "text/html": [
       "<div>\n",
       "<style scoped>\n",
       "    .dataframe tbody tr th:only-of-type {\n",
       "        vertical-align: middle;\n",
       "    }\n",
       "\n",
       "    .dataframe tbody tr th {\n",
       "        vertical-align: top;\n",
       "    }\n",
       "\n",
       "    .dataframe thead th {\n",
       "        text-align: right;\n",
       "    }\n",
       "</style>\n",
       "<table border=\"1\" class=\"dataframe\">\n",
       "  <thead>\n",
       "    <tr style=\"text-align: right;\">\n",
       "      <th></th>\n",
       "      <th>Unnamed: 0</th>\n",
       "      <th>Unnamed: 0.1</th>\n",
       "      <th>screen_name</th>\n",
       "      <th>description</th>\n",
       "      <th>number_of_tweets</th>\n",
       "      <th>following</th>\n",
       "      <th>followers</th>\n",
       "      <th>likes</th>\n",
       "      <th>retweets</th>\n",
       "      <th>hashtags</th>\n",
       "      <th>mentions</th>\n",
       "      <th>influence_score</th>\n",
       "      <th>popularity</th>\n",
       "    </tr>\n",
       "  </thead>\n",
       "  <tbody>\n",
       "    <tr>\n",
       "      <td>77</td>\n",
       "      <td>85</td>\n",
       "      <td>Trevornoah</td>\n",
       "      <td>Trevornoah</td>\n",
       "      <td>Comedian from South Africa. I was in the crowd...</td>\n",
       "      <td>11186</td>\n",
       "      <td>325</td>\n",
       "      <td>10798902</td>\n",
       "      <td>1310859</td>\n",
       "      <td>269364</td>\n",
       "      <td>NaN</td>\n",
       "      <td>NaN</td>\n",
       "      <td>10798577</td>\n",
       "      <td>1580223</td>\n",
       "    </tr>\n",
       "    <tr>\n",
       "      <td>74</td>\n",
       "      <td>82</td>\n",
       "      <td>Julius_S_Malema</td>\n",
       "      <td>Julius_S_Malema</td>\n",
       "      <td>Commander in Chief of Economic Freedom Fighter...</td>\n",
       "      <td>37178</td>\n",
       "      <td>652</td>\n",
       "      <td>3123242</td>\n",
       "      <td>1199508</td>\n",
       "      <td>254705</td>\n",
       "      <td>NaN</td>\n",
       "      <td>NaN</td>\n",
       "      <td>3122590</td>\n",
       "      <td>1454213</td>\n",
       "    </tr>\n",
       "    <tr>\n",
       "      <td>46</td>\n",
       "      <td>54</td>\n",
       "      <td>MbuyiseniNdlozi</td>\n",
       "      <td>MbuyiseniNdlozi</td>\n",
       "      <td>EFF Commissar &amp; Member of Parliament - @EFFSou...</td>\n",
       "      <td>35887</td>\n",
       "      <td>5473</td>\n",
       "      <td>1071914</td>\n",
       "      <td>1155395</td>\n",
       "      <td>229635</td>\n",
       "      <td>NaN</td>\n",
       "      <td>NaN</td>\n",
       "      <td>1066441</td>\n",
       "      <td>1385030</td>\n",
       "    </tr>\n",
       "    <tr>\n",
       "      <td>110</td>\n",
       "      <td>118</td>\n",
       "      <td>MBuhari</td>\n",
       "      <td>MBuhari</td>\n",
       "      <td>This is the official account of Muhammadu Buha...</td>\n",
       "      <td>4730</td>\n",
       "      <td>26</td>\n",
       "      <td>3265988</td>\n",
       "      <td>1000482</td>\n",
       "      <td>278145</td>\n",
       "      <td>NaN</td>\n",
       "      <td>NaN</td>\n",
       "      <td>3265962</td>\n",
       "      <td>1278627</td>\n",
       "    </tr>\n",
       "    <tr>\n",
       "      <td>93</td>\n",
       "      <td>101</td>\n",
       "      <td>KagutaMuseveni</td>\n",
       "      <td>KagutaMuseveni</td>\n",
       "      <td>President of the Republic of Uganda</td>\n",
       "      <td>6640</td>\n",
       "      <td>28</td>\n",
       "      <td>1807416</td>\n",
       "      <td>680723</td>\n",
       "      <td>127443</td>\n",
       "      <td>NaN</td>\n",
       "      <td>NaN</td>\n",
       "      <td>1807388</td>\n",
       "      <td>808166</td>\n",
       "    </tr>\n",
       "    <tr>\n",
       "      <td>104</td>\n",
       "      <td>112</td>\n",
       "      <td>NAkufoAddo</td>\n",
       "      <td>NAkufoAddo</td>\n",
       "      <td>Official Twitter account of Nana Addo Dankwa A...</td>\n",
       "      <td>7086</td>\n",
       "      <td>351</td>\n",
       "      <td>1502265</td>\n",
       "      <td>538089</td>\n",
       "      <td>99677</td>\n",
       "      <td>NaN</td>\n",
       "      <td>NaN</td>\n",
       "      <td>1501914</td>\n",
       "      <td>637766</td>\n",
       "    </tr>\n",
       "    <tr>\n",
       "      <td>91</td>\n",
       "      <td>99</td>\n",
       "      <td>SudanPMHamdok</td>\n",
       "      <td>SudanPMHamdok</td>\n",
       "      <td>The official account of the Prime Minister of ...</td>\n",
       "      <td>649</td>\n",
       "      <td>115</td>\n",
       "      <td>368579</td>\n",
       "      <td>491083</td>\n",
       "      <td>95245</td>\n",
       "      <td>NaN</td>\n",
       "      <td>NaN</td>\n",
       "      <td>368464</td>\n",
       "      <td>586328</td>\n",
       "    </tr>\n",
       "    <tr>\n",
       "      <td>82</td>\n",
       "      <td>90</td>\n",
       "      <td>PresidencyZA</td>\n",
       "      <td>PresidencyZA</td>\n",
       "      <td>This is the official Twitter page of The Presi...</td>\n",
       "      <td>18839</td>\n",
       "      <td>14</td>\n",
       "      <td>1595945</td>\n",
       "      <td>337064</td>\n",
       "      <td>143158</td>\n",
       "      <td>NaN</td>\n",
       "      <td>NaN</td>\n",
       "      <td>1595931</td>\n",
       "      <td>480222</td>\n",
       "    </tr>\n",
       "    <tr>\n",
       "      <td>12</td>\n",
       "      <td>20</td>\n",
       "      <td>malonebarry</td>\n",
       "      <td>malonebarry</td>\n",
       "      <td>Executive Producer, @AJStream. Previously: Al ...</td>\n",
       "      <td>35171</td>\n",
       "      <td>2988</td>\n",
       "      <td>28423</td>\n",
       "      <td>339468</td>\n",
       "      <td>120958</td>\n",
       "      <td>NaN</td>\n",
       "      <td>NaN</td>\n",
       "      <td>25435</td>\n",
       "      <td>460426</td>\n",
       "    </tr>\n",
       "    <tr>\n",
       "      <td>111</td>\n",
       "      <td>119</td>\n",
       "      <td>Macky_Sall</td>\n",
       "      <td>Macky_Sall</td>\n",
       "      <td>Président de la République du Sénégal 🇸🇳</td>\n",
       "      <td>2791</td>\n",
       "      <td>171</td>\n",
       "      <td>1371355</td>\n",
       "      <td>366390</td>\n",
       "      <td>57859</td>\n",
       "      <td>NaN</td>\n",
       "      <td>NaN</td>\n",
       "      <td>1371184</td>\n",
       "      <td>424249</td>\n",
       "    </tr>\n",
       "  </tbody>\n",
       "</table>\n",
       "</div>"
      ],
      "text/plain": [
       "     Unnamed: 0     Unnamed: 0.1      screen_name  \\\n",
       "77           85       Trevornoah       Trevornoah   \n",
       "74           82  Julius_S_Malema  Julius_S_Malema   \n",
       "46           54  MbuyiseniNdlozi  MbuyiseniNdlozi   \n",
       "110         118          MBuhari          MBuhari   \n",
       "93          101   KagutaMuseveni   KagutaMuseveni   \n",
       "104         112       NAkufoAddo       NAkufoAddo   \n",
       "91           99    SudanPMHamdok    SudanPMHamdok   \n",
       "82           90     PresidencyZA     PresidencyZA   \n",
       "12           20      malonebarry      malonebarry   \n",
       "111         119       Macky_Sall       Macky_Sall   \n",
       "\n",
       "                                           description  number_of_tweets  \\\n",
       "77   Comedian from South Africa. I was in the crowd...             11186   \n",
       "74   Commander in Chief of Economic Freedom Fighter...             37178   \n",
       "46   EFF Commissar & Member of Parliament - @EFFSou...             35887   \n",
       "110  This is the official account of Muhammadu Buha...              4730   \n",
       "93                 President of the Republic of Uganda              6640   \n",
       "104  Official Twitter account of Nana Addo Dankwa A...              7086   \n",
       "91   The official account of the Prime Minister of ...               649   \n",
       "82   This is the official Twitter page of The Presi...             18839   \n",
       "12   Executive Producer, @AJStream. Previously: Al ...             35171   \n",
       "111           Président de la République du Sénégal 🇸🇳              2791   \n",
       "\n",
       "     following  followers    likes  retweets  hashtags  mentions  \\\n",
       "77         325   10798902  1310859    269364       NaN       NaN   \n",
       "74         652    3123242  1199508    254705       NaN       NaN   \n",
       "46        5473    1071914  1155395    229635       NaN       NaN   \n",
       "110         26    3265988  1000482    278145       NaN       NaN   \n",
       "93          28    1807416   680723    127443       NaN       NaN   \n",
       "104        351    1502265   538089     99677       NaN       NaN   \n",
       "91         115     368579   491083     95245       NaN       NaN   \n",
       "82          14    1595945   337064    143158       NaN       NaN   \n",
       "12        2988      28423   339468    120958       NaN       NaN   \n",
       "111        171    1371355   366390     57859       NaN       NaN   \n",
       "\n",
       "     influence_score  popularity  \n",
       "77          10798577     1580223  \n",
       "74           3122590     1454213  \n",
       "46           1066441     1385030  \n",
       "110          3265962     1278627  \n",
       "93           1807388      808166  \n",
       "104          1501914      637766  \n",
       "91            368464      586328  \n",
       "82           1595931      480222  \n",
       "12             25435      460426  \n",
       "111          1371184      424249  "
      ]
     },
     "execution_count": 909,
     "metadata": {},
     "output_type": "execute_result"
    }
   ],
   "source": [
    "data['popularity'] = data['retweets'] + data['likes']\n",
    "popular = data.sort_values(by = 'popularity', ascending = False)\n",
    "popular.to_csv('popular_based_on_twitter.csv')\n",
    "popular.head(10)"
   ]
  },
  {
   "cell_type": "code",
   "execution_count": 904,
   "metadata": {},
   "outputs": [
    {
     "data": {
      "text/plain": [
       "Text(0, 0.5, 'popularity scores')"
      ]
     },
     "execution_count": 904,
     "metadata": {},
     "output_type": "execute_result"
    },
    {
     "data": {
      "image/png": "[encoded data removed]",
      "text/plain": [
       "<Figure size 1008x720 with 1 Axes>"
      ]
     },
     "metadata": {},
     "output_type": "display_data"
    }
   ],
   "source": [
    "import seaborn as sns\n",
    "import matplotlib.pyplot as plt\n",
    "\n",
    "top_10 = popular.head(10)\n",
    "fig, ax = plt.subplots(figsize=(14,10))\n",
    "sns.barplot(x = top_10['screen_name'], y = top_10['popularity'], ax = ax)\n",
    "plt.title('A bar plot showing popularity scores of most influencial Africans')\n",
    "plt.xticks(rotation=45)\n",
    "plt.xlabel('screen names')\n",
    "plt.ylabel('popularity scores')"
   ]
  },
  {
   "cell_type": "markdown",
   "metadata": {},
   "source": [
    "### b). Reach Scores\n",
    "using the formule ***#followers - #they follow***"
   ]
  },
  {
   "cell_type": "code",
   "execution_count": 910,
   "metadata": {},
   "outputs": [
    {
     "data": {
      "text/html": [
       "<div>\n",
       "<style scoped>\n",
       "    .dataframe tbody tr th:only-of-type {\n",
       "        vertical-align: middle;\n",
       "    }\n",
       "\n",
       "    .dataframe tbody tr th {\n",
       "        vertical-align: top;\n",
       "    }\n",
       "\n",
       "    .dataframe thead th {\n",
       "        text-align: right;\n",
       "    }\n",
       "</style>\n",
       "<table border=\"1\" class=\"dataframe\">\n",
       "  <thead>\n",
       "    <tr style=\"text-align: right;\">\n",
       "      <th></th>\n",
       "      <th>Unnamed: 0</th>\n",
       "      <th>Unnamed: 0.1</th>\n",
       "      <th>screen_name</th>\n",
       "      <th>description</th>\n",
       "      <th>number_of_tweets</th>\n",
       "      <th>following</th>\n",
       "      <th>followers</th>\n",
       "      <th>likes</th>\n",
       "      <th>retweets</th>\n",
       "      <th>hashtags</th>\n",
       "      <th>mentions</th>\n",
       "      <th>influence_score</th>\n",
       "      <th>popularity</th>\n",
       "    </tr>\n",
       "  </thead>\n",
       "  <tbody>\n",
       "    <tr>\n",
       "      <td>77</td>\n",
       "      <td>85</td>\n",
       "      <td>Trevornoah</td>\n",
       "      <td>Trevornoah</td>\n",
       "      <td>Comedian from South Africa. I was in the crowd...</td>\n",
       "      <td>11186</td>\n",
       "      <td>325</td>\n",
       "      <td>10798902</td>\n",
       "      <td>1310859</td>\n",
       "      <td>269364</td>\n",
       "      <td>NaN</td>\n",
       "      <td>NaN</td>\n",
       "      <td>10798577</td>\n",
       "      <td>1580223</td>\n",
       "    </tr>\n",
       "    <tr>\n",
       "      <td>75</td>\n",
       "      <td>83</td>\n",
       "      <td>News24</td>\n",
       "      <td>News24</td>\n",
       "      <td>South Africa's premier online news resource. F...</td>\n",
       "      <td>322393</td>\n",
       "      <td>631</td>\n",
       "      <td>3573013</td>\n",
       "      <td>197685</td>\n",
       "      <td>81459</td>\n",
       "      <td>NaN</td>\n",
       "      <td>NaN</td>\n",
       "      <td>3572382</td>\n",
       "      <td>279144</td>\n",
       "    </tr>\n",
       "    <tr>\n",
       "      <td>110</td>\n",
       "      <td>118</td>\n",
       "      <td>MBuhari</td>\n",
       "      <td>MBuhari</td>\n",
       "      <td>This is the official account of Muhammadu Buha...</td>\n",
       "      <td>4730</td>\n",
       "      <td>26</td>\n",
       "      <td>3265988</td>\n",
       "      <td>1000482</td>\n",
       "      <td>278145</td>\n",
       "      <td>NaN</td>\n",
       "      <td>NaN</td>\n",
       "      <td>3265962</td>\n",
       "      <td>1278627</td>\n",
       "    </tr>\n",
       "    <tr>\n",
       "      <td>74</td>\n",
       "      <td>82</td>\n",
       "      <td>Julius_S_Malema</td>\n",
       "      <td>Julius_S_Malema</td>\n",
       "      <td>Commander in Chief of Economic Freedom Fighter...</td>\n",
       "      <td>37178</td>\n",
       "      <td>652</td>\n",
       "      <td>3123242</td>\n",
       "      <td>1199508</td>\n",
       "      <td>254705</td>\n",
       "      <td>NaN</td>\n",
       "      <td>NaN</td>\n",
       "      <td>3122590</td>\n",
       "      <td>1454213</td>\n",
       "    </tr>\n",
       "    <tr>\n",
       "      <td>88</td>\n",
       "      <td>96</td>\n",
       "      <td>PaulKagame</td>\n",
       "      <td>PaulKagame</td>\n",
       "      <td>President of the Republic of Rwanda, write to:...</td>\n",
       "      <td>2861</td>\n",
       "      <td>181</td>\n",
       "      <td>1979416</td>\n",
       "      <td>194274</td>\n",
       "      <td>46499</td>\n",
       "      <td>NaN</td>\n",
       "      <td>NaN</td>\n",
       "      <td>1979235</td>\n",
       "      <td>240773</td>\n",
       "    </tr>\n",
       "    <tr>\n",
       "      <td>76</td>\n",
       "      <td>84</td>\n",
       "      <td>GarethCliff</td>\n",
       "      <td>GarethCliff</td>\n",
       "      <td>President of https://t.co/scMZ7lsVKF ⚜. Enquir...</td>\n",
       "      <td>31622</td>\n",
       "      <td>356</td>\n",
       "      <td>1974289</td>\n",
       "      <td>26361</td>\n",
       "      <td>5307</td>\n",
       "      <td>NaN</td>\n",
       "      <td>NaN</td>\n",
       "      <td>1973933</td>\n",
       "      <td>31668</td>\n",
       "    </tr>\n",
       "    <tr>\n",
       "      <td>93</td>\n",
       "      <td>101</td>\n",
       "      <td>KagutaMuseveni</td>\n",
       "      <td>KagutaMuseveni</td>\n",
       "      <td>President of the Republic of Uganda</td>\n",
       "      <td>6640</td>\n",
       "      <td>28</td>\n",
       "      <td>1807416</td>\n",
       "      <td>680723</td>\n",
       "      <td>127443</td>\n",
       "      <td>NaN</td>\n",
       "      <td>NaN</td>\n",
       "      <td>1807388</td>\n",
       "      <td>808166</td>\n",
       "    </tr>\n",
       "    <tr>\n",
       "      <td>65</td>\n",
       "      <td>73</td>\n",
       "      <td>euphonik</td>\n",
       "      <td>euphonik</td>\n",
       "      <td>LIFE | MUSIC | PROPERTY | BRANDS | CULTURE Con...</td>\n",
       "      <td>4510</td>\n",
       "      <td>65</td>\n",
       "      <td>1753245</td>\n",
       "      <td>223750</td>\n",
       "      <td>35389</td>\n",
       "      <td>NaN</td>\n",
       "      <td>NaN</td>\n",
       "      <td>1753180</td>\n",
       "      <td>259139</td>\n",
       "    </tr>\n",
       "    <tr>\n",
       "      <td>82</td>\n",
       "      <td>90</td>\n",
       "      <td>PresidencyZA</td>\n",
       "      <td>PresidencyZA</td>\n",
       "      <td>This is the official Twitter page of The Presi...</td>\n",
       "      <td>18839</td>\n",
       "      <td>14</td>\n",
       "      <td>1595945</td>\n",
       "      <td>337064</td>\n",
       "      <td>143158</td>\n",
       "      <td>NaN</td>\n",
       "      <td>NaN</td>\n",
       "      <td>1595931</td>\n",
       "      <td>480222</td>\n",
       "    </tr>\n",
       "    <tr>\n",
       "      <td>104</td>\n",
       "      <td>112</td>\n",
       "      <td>NAkufoAddo</td>\n",
       "      <td>NAkufoAddo</td>\n",
       "      <td>Official Twitter account of Nana Addo Dankwa A...</td>\n",
       "      <td>7086</td>\n",
       "      <td>351</td>\n",
       "      <td>1502265</td>\n",
       "      <td>538089</td>\n",
       "      <td>99677</td>\n",
       "      <td>NaN</td>\n",
       "      <td>NaN</td>\n",
       "      <td>1501914</td>\n",
       "      <td>637766</td>\n",
       "    </tr>\n",
       "  </tbody>\n",
       "</table>\n",
       "</div>"
      ],
      "text/plain": [
       "     Unnamed: 0     Unnamed: 0.1      screen_name  \\\n",
       "77           85       Trevornoah       Trevornoah   \n",
       "75           83           News24           News24   \n",
       "110         118          MBuhari          MBuhari   \n",
       "74           82  Julius_S_Malema  Julius_S_Malema   \n",
       "88           96       PaulKagame       PaulKagame   \n",
       "76           84      GarethCliff      GarethCliff   \n",
       "93          101   KagutaMuseveni   KagutaMuseveni   \n",
       "65           73         euphonik         euphonik   \n",
       "82           90     PresidencyZA     PresidencyZA   \n",
       "104         112       NAkufoAddo       NAkufoAddo   \n",
       "\n",
       "                                           description  number_of_tweets  \\\n",
       "77   Comedian from South Africa. I was in the crowd...             11186   \n",
       "75   South Africa's premier online news resource. F...            322393   \n",
       "110  This is the official account of Muhammadu Buha...              4730   \n",
       "74   Commander in Chief of Economic Freedom Fighter...             37178   \n",
       "88   President of the Republic of Rwanda, write to:...              2861   \n",
       "76   President of https://t.co/scMZ7lsVKF ⚜. Enquir...             31622   \n",
       "93                 President of the Republic of Uganda              6640   \n",
       "65   LIFE | MUSIC | PROPERTY | BRANDS | CULTURE Con...              4510   \n",
       "82   This is the official Twitter page of The Presi...             18839   \n",
       "104  Official Twitter account of Nana Addo Dankwa A...              7086   \n",
       "\n",
       "     following  followers    likes  retweets  hashtags  mentions  \\\n",
       "77         325   10798902  1310859    269364       NaN       NaN   \n",
       "75         631    3573013   197685     81459       NaN       NaN   \n",
       "110         26    3265988  1000482    278145       NaN       NaN   \n",
       "74         652    3123242  1199508    254705       NaN       NaN   \n",
       "88         181    1979416   194274     46499       NaN       NaN   \n",
       "76         356    1974289    26361      5307       NaN       NaN   \n",
       "93          28    1807416   680723    127443       NaN       NaN   \n",
       "65          65    1753245   223750     35389       NaN       NaN   \n",
       "82          14    1595945   337064    143158       NaN       NaN   \n",
       "104        351    1502265   538089     99677       NaN       NaN   \n",
       "\n",
       "     influence_score  popularity  \n",
       "77          10798577     1580223  \n",
       "75           3572382      279144  \n",
       "110          3265962     1278627  \n",
       "74           3122590     1454213  \n",
       "88           1979235      240773  \n",
       "76           1973933       31668  \n",
       "93           1807388      808166  \n",
       "65           1753180      259139  \n",
       "82           1595931      480222  \n",
       "104          1501914      637766  "
      ]
     },
     "execution_count": 910,
     "metadata": {},
     "output_type": "execute_result"
    }
   ],
   "source": [
    "data['influence_score'] = data['followers'] - data['following']\n",
    "most_influential = data.sort_values(by = 'influence_score', ascending = False)\n",
    "most_influential.to_csv('most_influential based on twitter.csv')\n",
    "most_influential.head(10)"
   ]
  },
  {
   "cell_type": "code",
   "execution_count": 906,
   "metadata": {},
   "outputs": [
    {
     "data": {
      "text/plain": [
       "Text(0, 0.5, 'Reach scores')"
      ]
     },
     "execution_count": 906,
     "metadata": {},
     "output_type": "execute_result"
    },
    {
     "data": {
      "image/png": "[encoded data removed]",
      "text/plain": [
       "<Figure size 1008x720 with 1 Axes>"
      ]
     },
     "metadata": {},
     "output_type": "display_data"
    }
   ],
   "source": [
    "top_10 = most_influential.head(10)\n",
    "fig, ax = plt.subplots(figsize=(14,10))\n",
    "sns.barplot(x = top_10['screen_name'], y = top_10['influence_score'], ax = ax)\n",
    "plt.title('A bar plot showing reach scores of most influencial Africans')\n",
    "plt.xticks(rotation=45)\n",
    "plt.xlabel('screen names')\n",
    "plt.ylabel('Reach scores')"
   ]
  },
  {
   "cell_type": "markdown",
   "metadata": {},
   "source": [
    "### NB: Fetch Tweets of the handles in the dataframes then create csv for each account.\n",
    "\n",
    "The run time is really long, run it only iff you want the tweets of each of the scrapped handles.\n",
    "Will be used to pull the hashtags and mentions if the first method fails."
   ]
  },
  {
   "cell_type": "code",
   "execution_count": 33,
   "metadata": {},
   "outputs": [],
   "source": [
    "consumer_key = os.environ.get('consumer_key')\n",
    "consumer_secret = os.environ.get('consumer_secret')\n",
    "access_token = os.environ.get('access_token')\n",
    "access_token_secret = os.environ.get('access_token_secret')\n",
    "\n",
    "def get_all_tweets(screen_name):\n",
    "\n",
    "    #authorize twitter, initialize tweepy\n",
    "    auth = tweepy.OAuthHandler(consumer_key, consumer_secret)\n",
    "    auth.set_access_token(access_token, access_token_secret)\n",
    "    api = tweepy.API(auth)\n",
    "\n",
    "    #initialize a list to hold all the tweepy Tweets\n",
    "    alltweets = []  \n",
    "\n",
    "    #make initial request for most recent tweets (200 is the maximum allowed count)\n",
    "    new_tweets = api.user_timeline(screen_name = screen_name, count=200)\n",
    "\n",
    "    #save most recent tweets\n",
    "    alltweets.extend(new_tweets)\n",
    "\n",
    "    #save the id of the oldest tweet less one\n",
    "    oldest = alltweets[-1].id - 1\n",
    "\n",
    "    #keep grabbing tweets until there are no tweets left to grab\n",
    "    while len(new_tweets) > 0:\n",
    "        print(\"getting tweets before %s\" % (oldest))\n",
    "\n",
    "        #all subsiquent requests use the max_id param to prevent duplicates\n",
    "        new_tweets = api.user_timeline(screen_name = screen_name,count=200, max_id=oldest)\n",
    "\n",
    "        #save most recent tweets\n",
    "        alltweets.extend(new_tweets)\n",
    "\n",
    "        #update the id of the oldest tweet less one\n",
    "        oldest = alltweets[-1].id - 1\n",
    "\n",
    "        print(\"...%s tweets downloaded so far\" % (len(alltweets)))\n",
    "\n",
    "    #transform the tweepy tweets into a 2D array that will populate the csv \n",
    "    outtweets = [[tweet.id_str, tweet.created_at, tweet.text.encode(\"utf-8\")] for tweet in alltweets]\n",
    "\n",
    "    #write the csv  \n",
    "    with open('%s_tweets.csv' % screen_name, 'w') as f:\n",
    "        writer = csv.writer(f)\n",
    "        writer.writerow([\"id\",\"created_at\",\"text\"])\n",
    "        writer.writerows(outtweets)\n",
    "\n",
    "    pass\n",
    "\n",
    "# fetch the handles from the top_100 and leaders dataframes\n",
    "# convert to list the merge them to be one list.\n",
    "the_100 = top_100.users.unique()\n",
    "the_leaders = leaders.handles.unique()\n",
    "l1 = the_100.astype(str).tolist() \n",
    "l2 = the_leaders.astype(str).tolist()\n",
    "accounts = l1 + l2\n",
    "\n",
    "# take care of private, suspended or deleted accounts\n",
    "names = []\n",
    "for user in accounts:\n",
    "    try:\n",
    "        u=auth_api.get_user(user)\n",
    "        names.append(u.screen_name)\n",
    "    except Exception:\n",
    "            pass\n",
    "names   \n",
    "\n",
    "# if __name__ == '__main__':\n",
    "#     #pass in the username of the account you want to download\n",
    "#     for i,name in enumerate(names):\n",
    "#         get_all_tweets(name) "
   ]
  },
  {
   "cell_type": "markdown",
   "metadata": {},
   "source": [
    "## c). Relevance Score\n",
    "***relevance_score = #retweets + #mentions in other tweets***\n",
    "\n",
    "The function above generated tweet files (retweets inclusive) for the influencers and leaders for the past 2 years or so, from all the tweets, I plan to pull the mentions of the influencers and leaders amongst themselves and do a count of the number of times each user is mentioned.\n",
    "\n",
    "*Using retweets in place for comments."
   ]
  },
  {
   "cell_type": "markdown",
   "metadata": {},
   "source": [
    "### c1). Mentions"
   ]
  },
  {
   "cell_type": "code",
   "execution_count": 323,
   "metadata": {},
   "outputs": [],
   "source": [
    "# get the mentions from all the csvs\n",
    "m = pd.DataFrame(columns=['mentions'])\n",
    "def get_mentions(path): \n",
    "    data = pd.read_csv(path)\n",
    "    tweets = data['text'].to_list()\n",
    "    global mentions\n",
    "    mentions = []\n",
    "    for element in tweets:\n",
    "        for string in element.split(' '):\n",
    "            if string.startswith('@'):\n",
    "                if len(string) > 1:\n",
    "                    mentions.append(string)\n",
    "\n",
    "    m.loc[path, 'mentions'] = mentions\n",
    "\n",
    "    return m\n",
    "\n",
    "file_paths = ['/home/ada/10academy/training /week1/monday/csvs/both/@' + name + '_tweets.csv' for name in names]\n",
    "for path in file_paths:\n",
    "    try:\n",
    "        ms = get_mentions(path)\n",
    "    except Exception:\n",
    "        pass"
   ]
  },
  {
   "cell_type": "code",
   "execution_count": 346,
   "metadata": {},
   "outputs": [
    {
     "data": {
      "text/html": [
       "<div>\n",
       "<style scoped>\n",
       "    .dataframe tbody tr th:only-of-type {\n",
       "        vertical-align: middle;\n",
       "    }\n",
       "\n",
       "    .dataframe tbody tr th {\n",
       "        vertical-align: top;\n",
       "    }\n",
       "\n",
       "    .dataframe thead th {\n",
       "        text-align: right;\n",
       "    }\n",
       "</style>\n",
       "<table border=\"1\" class=\"dataframe\">\n",
       "  <thead>\n",
       "    <tr style=\"text-align: right;\">\n",
       "      <th></th>\n",
       "      <th>mentions</th>\n",
       "    </tr>\n",
       "  </thead>\n",
       "  <tbody>\n",
       "    <tr>\n",
       "      <td>/home/ada/10academy/training /week1/monday/csvs/both/@gettleman_tweets.csv</td>\n",
       "      <td>[@SavvyPriya:, @gettleman, @HariNYT, @KetanDay...</td>\n",
       "    </tr>\n",
       "    <tr>\n",
       "      <td>/home/ada/10academy/training /week1/monday/csvs/both/@a24media_tweets.csv</td>\n",
       "      <td>[@Yebo_Live:, @Yebo_Live:, @Yebo_Live:, @Yebo_...</td>\n",
       "    </tr>\n",
       "    <tr>\n",
       "      <td>/home/ada/10academy/training /week1/monday/csvs/both/@AfricaCheck_tweets.csv</td>\n",
       "      <td>[@gijnAfrica:, @CTICC_Official, @AfricaCheck, ...</td>\n",
       "    </tr>\n",
       "    <tr>\n",
       "      <td>/home/ada/10academy/training /week1/monday/csvs/both/@JamesCopnall_tweets.csv</td>\n",
       "      <td>[@jasonhickel:, @wasilalitaha:, @nasabdulbari,...</td>\n",
       "    </tr>\n",
       "    <tr>\n",
       "      <td>/home/ada/10academy/training /week1/monday/csvs/both/@oafrica_tweets.csv</td>\n",
       "      <td>[@A4A_Internet:, @cobbo3:, @MandGAfr\\xe2\\x80\\x...</td>\n",
       "    </tr>\n",
       "  </tbody>\n",
       "</table>\n",
       "</div>"
      ],
      "text/plain": [
       "                                                                                             mentions\n",
       "/home/ada/10academy/training /week1/monday/csvs...  [@SavvyPriya:, @gettleman, @HariNYT, @KetanDay...\n",
       "/home/ada/10academy/training /week1/monday/csvs...  [@Yebo_Live:, @Yebo_Live:, @Yebo_Live:, @Yebo_...\n",
       "/home/ada/10academy/training /week1/monday/csvs...  [@gijnAfrica:, @CTICC_Official, @AfricaCheck, ...\n",
       "/home/ada/10academy/training /week1/monday/csvs...  [@jasonhickel:, @wasilalitaha:, @nasabdulbari,...\n",
       "/home/ada/10academy/training /week1/monday/csvs...  [@A4A_Internet:, @cobbo3:, @MandGAfr\\xe2\\x80\\x..."
      ]
     },
     "execution_count": 346,
     "metadata": {},
     "output_type": "execute_result"
    }
   ],
   "source": [
    "ms.head()"
   ]
  },
  {
   "cell_type": "code",
   "execution_count": 907,
   "metadata": {},
   "outputs": [
    {
     "name": "stdout",
     "output_type": "stream",
     "text": [
      "Total number of mentions in all the tweets is:  224164\n"
     ]
    }
   ],
   "source": [
    "l = ms['mentions'].to_list()\n",
    "# flatten the list of lists\n",
    "f_list = [y for x in l for y in x]\n",
    "print('Total number of mentions in all the tweets is: ', len(f_list))"
   ]
  },
  {
   "cell_type": "code",
   "execution_count": 349,
   "metadata": {},
   "outputs": [
    {
     "data": {
      "text/plain": [
       "127"
      ]
     },
     "execution_count": 349,
     "metadata": {},
     "output_type": "execute_result"
    }
   ],
   "source": [
    "# pick out only the mentions we're interested in and do a count of their mentions.\n",
    "our_mentions = []\n",
    "for mention in f_list:\n",
    "    if mention in accounts:\n",
    "        our_mentions.append(mention)\n",
    "\n",
    "# do a count of each mention.\n",
    "from collections import Counter\n",
    "numbers = Counter(our_mentions)\n",
    "len(numbers)"
   ]
  },
  {
   "cell_type": "code",
   "execution_count": 351,
   "metadata": {},
   "outputs": [
    {
     "data": {
      "text/html": [
       "<div>\n",
       "<style scoped>\n",
       "    .dataframe tbody tr th:only-of-type {\n",
       "        vertical-align: middle;\n",
       "    }\n",
       "\n",
       "    .dataframe tbody tr th {\n",
       "        vertical-align: top;\n",
       "    }\n",
       "\n",
       "    .dataframe thead th {\n",
       "        text-align: right;\n",
       "    }\n",
       "</style>\n",
       "<table border=\"1\" class=\"dataframe\">\n",
       "  <thead>\n",
       "    <tr style=\"text-align: right;\">\n",
       "      <th></th>\n",
       "      <th>mentions_count</th>\n",
       "    </tr>\n",
       "  </thead>\n",
       "  <tbody>\n",
       "    <tr>\n",
       "      <td>@gertjohan</td>\n",
       "      <td>1416</td>\n",
       "    </tr>\n",
       "    <tr>\n",
       "      <td>@gettleman</td>\n",
       "      <td>839</td>\n",
       "    </tr>\n",
       "    <tr>\n",
       "      <td>@_AfricanUnion</td>\n",
       "      <td>619</td>\n",
       "    </tr>\n",
       "    <tr>\n",
       "      <td>@art2gee</td>\n",
       "      <td>609</td>\n",
       "    </tr>\n",
       "    <tr>\n",
       "      <td>@PatrickNgowi</td>\n",
       "      <td>537</td>\n",
       "    </tr>\n",
       "    <tr>\n",
       "      <td>@PeterGreste</td>\n",
       "      <td>510</td>\n",
       "    </tr>\n",
       "    <tr>\n",
       "      <td>@liveamp</td>\n",
       "      <td>430</td>\n",
       "    </tr>\n",
       "    <tr>\n",
       "      <td>@GarethCliff</td>\n",
       "      <td>423</td>\n",
       "    </tr>\n",
       "    <tr>\n",
       "      <td>@UlrichJvV</td>\n",
       "      <td>414</td>\n",
       "    </tr>\n",
       "    <tr>\n",
       "      <td>@KahnMorbee</td>\n",
       "      <td>402</td>\n",
       "    </tr>\n",
       "  </tbody>\n",
       "</table>\n",
       "</div>"
      ],
      "text/plain": [
       "                mentions_count\n",
       "@gertjohan                1416\n",
       "@gettleman                 839\n",
       "@_AfricanUnion             619\n",
       "@art2gee                   609\n",
       "@PatrickNgowi              537\n",
       "@PeterGreste               510\n",
       "@liveamp                   430\n",
       "@GarethCliff               423\n",
       "@UlrichJvV                 414\n",
       "@KahnMorbee                402"
      ]
     },
     "execution_count": 351,
     "metadata": {},
     "output_type": "execute_result"
    }
   ],
   "source": [
    "#create a df of mention counts\n",
    "numbers = dict(numbers)\n",
    "mentions_df = pd.DataFrame.from_dict(numbers, orient = 'index')\n",
    "mentions_df.columns = ['mentions_count']\n",
    "mentions_df = mentions_df.sort_values(by = 'mentions_count', ascending = False)\n",
    "mentions_df.head(10)"
   ]
  },
  {
   "cell_type": "code",
   "execution_count": 352,
   "metadata": {},
   "outputs": [
    {
     "data": {
      "text/plain": [
       "Text(0, 0.5, 'Number of mentions')"
      ]
     },
     "execution_count": 352,
     "metadata": {},
     "output_type": "execute_result"
    },
    {
     "data": {
      "image/png": "[encoded data removed]",
      "text/plain": [
       "<Figure size 1008x720 with 1 Axes>"
      ]
     },
     "metadata": {
      "needs_background": "light"
     },
     "output_type": "display_data"
    }
   ],
   "source": [
    "topp_10 = mentions_df.head(10)\n",
    "fig, ax = plt.subplots(figsize=(14,10))\n",
    "sns.barplot(x = topp_10.index, y = topp_10['mentions_count'], ax = ax)\n",
    "plt.title('A bar plot showing mention counts of most influencial Africans')\n",
    "plt.xticks(rotation=45)\n",
    "plt.xlabel('screen names')\n",
    "plt.ylabel('Number of mentions')"
   ]
  },
  {
   "cell_type": "markdown",
   "metadata": {},
   "source": [
    "### c2). Retweets as proxy for comments.\n",
    "\n",
    "check for users in the mentions dataframe and pull their details from the data dataframe then create a new dataframe with the colume 'relevance score' defined by the formulae  ***relevance_score = #retweets + #mentions in other tweets***"
   ]
  },
  {
   "cell_type": "code",
   "execution_count": 241,
   "metadata": {},
   "outputs": [],
   "source": [
    "# def prepend(list, str): \n",
    "#     str += '{0}'\n",
    "#     l = [str.format(i) for i in list if not i.startswith(str)] \n",
    "#     both = list+ l\n",
    "#     for j in both:\n",
    "#         if not j.startswith(str):\n",
    "#             both.remove(j)\n",
    "#     return(both) \n",
    "\n",
    "\n",
    "# l = data['Unnamed: 0.1'].to_list()\n",
    "# my_list = prepend(l, '@')\n",
    "# len(my_list)\n",
    "# data['Unnamed: 0.1'] = my_list"
   ]
  },
  {
   "cell_type": "code",
   "execution_count": 354,
   "metadata": {},
   "outputs": [
    {
     "data": {
      "text/html": [
       "<div>\n",
       "<style scoped>\n",
       "    .dataframe tbody tr th:only-of-type {\n",
       "        vertical-align: middle;\n",
       "    }\n",
       "\n",
       "    .dataframe tbody tr th {\n",
       "        vertical-align: top;\n",
       "    }\n",
       "\n",
       "    .dataframe thead th {\n",
       "        text-align: right;\n",
       "    }\n",
       "</style>\n",
       "<table border=\"1\" class=\"dataframe\">\n",
       "  <thead>\n",
       "    <tr style=\"text-align: right;\">\n",
       "      <th></th>\n",
       "      <th>Unnamed: 0</th>\n",
       "      <th>Unnamed: 0.1</th>\n",
       "      <th>screen_name</th>\n",
       "      <th>description</th>\n",
       "      <th>number_of_tweets</th>\n",
       "      <th>following</th>\n",
       "      <th>followers</th>\n",
       "      <th>likes</th>\n",
       "      <th>retweets</th>\n",
       "      <th>hashtags</th>\n",
       "      <th>mentions</th>\n",
       "      <th>popularity</th>\n",
       "    </tr>\n",
       "  </thead>\n",
       "  <tbody>\n",
       "    <tr>\n",
       "      <td>0</td>\n",
       "      <td>0</td>\n",
       "      <td>@gettleman</td>\n",
       "      <td>gettleman</td>\n",
       "      <td>South Asia bureau chief for the New York Times...</td>\n",
       "      <td>3766</td>\n",
       "      <td>37</td>\n",
       "      <td>25701</td>\n",
       "      <td>9267</td>\n",
       "      <td>3371</td>\n",
       "      <td>NaN</td>\n",
       "      <td>NaN</td>\n",
       "      <td>12638</td>\n",
       "    </tr>\n",
       "    <tr>\n",
       "      <td>1</td>\n",
       "      <td>1</td>\n",
       "      <td>@a24media</td>\n",
       "      <td>a24media</td>\n",
       "      <td>Africa 24 produces compelling content that mak...</td>\n",
       "      <td>16852</td>\n",
       "      <td>3060</td>\n",
       "      <td>31294</td>\n",
       "      <td>603</td>\n",
       "      <td>194</td>\n",
       "      <td>NaN</td>\n",
       "      <td>NaN</td>\n",
       "      <td>797</td>\n",
       "    </tr>\n",
       "    <tr>\n",
       "      <td>2</td>\n",
       "      <td>2</td>\n",
       "      <td>@andiMakinana</td>\n",
       "      <td>AndiMakinana</td>\n",
       "      <td>In pursuit of scoops. I do not write headlines...</td>\n",
       "      <td>142183</td>\n",
       "      <td>2837</td>\n",
       "      <td>101172</td>\n",
       "      <td>73785</td>\n",
       "      <td>34232</td>\n",
       "      <td>NaN</td>\n",
       "      <td>NaN</td>\n",
       "      <td>108017</td>\n",
       "    </tr>\n",
       "    <tr>\n",
       "      <td>3</td>\n",
       "      <td>3</td>\n",
       "      <td>@AfricaCheck</td>\n",
       "      <td>AfricaCheck</td>\n",
       "      <td>Africa's first independent fact-checking websi...</td>\n",
       "      <td>27294</td>\n",
       "      <td>4593</td>\n",
       "      <td>68029</td>\n",
       "      <td>7209</td>\n",
       "      <td>6857</td>\n",
       "      <td>NaN</td>\n",
       "      <td>NaN</td>\n",
       "      <td>14066</td>\n",
       "    </tr>\n",
       "    <tr>\n",
       "      <td>4</td>\n",
       "      <td>4</td>\n",
       "      <td>@JamesCopnall</td>\n",
       "      <td>JamesCopnall</td>\n",
       "      <td>BBC reporter + presenter. Author A Poisonous T...</td>\n",
       "      <td>19434</td>\n",
       "      <td>5046</td>\n",
       "      <td>21960</td>\n",
       "      <td>908</td>\n",
       "      <td>161</td>\n",
       "      <td>NaN</td>\n",
       "      <td>NaN</td>\n",
       "      <td>1069</td>\n",
       "    </tr>\n",
       "  </tbody>\n",
       "</table>\n",
       "</div>"
      ],
      "text/plain": [
       "   Unnamed: 0   Unnamed: 0.1   screen_name  \\\n",
       "0           0     @gettleman     gettleman   \n",
       "1           1      @a24media      a24media   \n",
       "2           2  @andiMakinana  AndiMakinana   \n",
       "3           3   @AfricaCheck   AfricaCheck   \n",
       "4           4  @JamesCopnall  JamesCopnall   \n",
       "\n",
       "                                         description  number_of_tweets  \\\n",
       "0  South Asia bureau chief for the New York Times...              3766   \n",
       "1  Africa 24 produces compelling content that mak...             16852   \n",
       "2  In pursuit of scoops. I do not write headlines...            142183   \n",
       "3  Africa's first independent fact-checking websi...             27294   \n",
       "4  BBC reporter + presenter. Author A Poisonous T...             19434   \n",
       "\n",
       "   following  followers  likes  retweets  hashtags  mentions  popularity  \n",
       "0         37      25701   9267      3371       NaN       NaN       12638  \n",
       "1       3060      31294    603       194       NaN       NaN         797  \n",
       "2       2837     101172  73785     34232       NaN       NaN      108017  \n",
       "3       4593      68029   7209      6857       NaN       NaN       14066  \n",
       "4       5046      21960    908       161       NaN       NaN        1069  "
      ]
     },
     "execution_count": 354,
     "metadata": {},
     "output_type": "execute_result"
    }
   ],
   "source": [
    "data.head()"
   ]
  },
  {
   "cell_type": "code",
   "execution_count": 355,
   "metadata": {},
   "outputs": [
    {
     "data": {
      "text/html": [
       "<div>\n",
       "<style scoped>\n",
       "    .dataframe tbody tr th:only-of-type {\n",
       "        vertical-align: middle;\n",
       "    }\n",
       "\n",
       "    .dataframe tbody tr th {\n",
       "        vertical-align: top;\n",
       "    }\n",
       "\n",
       "    .dataframe thead th {\n",
       "        text-align: right;\n",
       "    }\n",
       "</style>\n",
       "<table border=\"1\" class=\"dataframe\">\n",
       "  <thead>\n",
       "    <tr style=\"text-align: right;\">\n",
       "      <th></th>\n",
       "      <th>index</th>\n",
       "      <th>mentions_count</th>\n",
       "    </tr>\n",
       "  </thead>\n",
       "  <tbody>\n",
       "    <tr>\n",
       "      <td>0</td>\n",
       "      <td>@gertjohan</td>\n",
       "      <td>1416</td>\n",
       "    </tr>\n",
       "    <tr>\n",
       "      <td>1</td>\n",
       "      <td>@gettleman</td>\n",
       "      <td>839</td>\n",
       "    </tr>\n",
       "    <tr>\n",
       "      <td>2</td>\n",
       "      <td>@_AfricanUnion</td>\n",
       "      <td>619</td>\n",
       "    </tr>\n",
       "    <tr>\n",
       "      <td>3</td>\n",
       "      <td>@art2gee</td>\n",
       "      <td>609</td>\n",
       "    </tr>\n",
       "    <tr>\n",
       "      <td>4</td>\n",
       "      <td>@PatrickNgowi</td>\n",
       "      <td>537</td>\n",
       "    </tr>\n",
       "  </tbody>\n",
       "</table>\n",
       "</div>"
      ],
      "text/plain": [
       "            index  mentions_count\n",
       "0      @gertjohan            1416\n",
       "1      @gettleman             839\n",
       "2  @_AfricanUnion             619\n",
       "3        @art2gee             609\n",
       "4   @PatrickNgowi             537"
      ]
     },
     "execution_count": 355,
     "metadata": {},
     "output_type": "execute_result"
    }
   ],
   "source": [
    "mentions_df = mentions_df.reset_index()\n",
    "mentions_df.head()"
   ]
  },
  {
   "cell_type": "code",
   "execution_count": 244,
   "metadata": {},
   "outputs": [
    {
     "data": {
      "text/html": [
       "<div>\n",
       "<style scoped>\n",
       "    .dataframe tbody tr th:only-of-type {\n",
       "        vertical-align: middle;\n",
       "    }\n",
       "\n",
       "    .dataframe tbody tr th {\n",
       "        vertical-align: top;\n",
       "    }\n",
       "\n",
       "    .dataframe thead th {\n",
       "        text-align: right;\n",
       "    }\n",
       "</style>\n",
       "<table border=\"1\" class=\"dataframe\">\n",
       "  <thead>\n",
       "    <tr style=\"text-align: right;\">\n",
       "      <th></th>\n",
       "      <th>level_0</th>\n",
       "      <th>index</th>\n",
       "      <th>mentions_count</th>\n",
       "    </tr>\n",
       "  </thead>\n",
       "  <tbody>\n",
       "    <tr>\n",
       "      <td>1</td>\n",
       "      <td>1</td>\n",
       "      <td>@gettleman</td>\n",
       "      <td>839</td>\n",
       "    </tr>\n",
       "    <tr>\n",
       "      <td>12</td>\n",
       "      <td>12</td>\n",
       "      <td>@Moadow</td>\n",
       "      <td>361</td>\n",
       "    </tr>\n",
       "    <tr>\n",
       "      <td>26</td>\n",
       "      <td>26</td>\n",
       "      <td>@JamesCopnall</td>\n",
       "      <td>232</td>\n",
       "    </tr>\n",
       "    <tr>\n",
       "      <td>31</td>\n",
       "      <td>31</td>\n",
       "      <td>@AfricaCheck</td>\n",
       "      <td>200</td>\n",
       "    </tr>\n",
       "    <tr>\n",
       "      <td>52</td>\n",
       "      <td>52</td>\n",
       "      <td>@a24media</td>\n",
       "      <td>106</td>\n",
       "    </tr>\n",
       "  </tbody>\n",
       "</table>\n",
       "</div>"
      ],
      "text/plain": [
       "    level_0          index  mentions_count\n",
       "1         1     @gettleman             839\n",
       "12       12        @Moadow             361\n",
       "26       26  @JamesCopnall             232\n",
       "31       31   @AfricaCheck             200\n",
       "52       52      @a24media             106"
      ]
     },
     "execution_count": 244,
     "metadata": {},
     "output_type": "execute_result"
    }
   ],
   "source": [
    "# pick out the mentions we're only interested in.\n",
    "l = data['Unnamed: 0.1'].to_list()\n",
    "new_mentions_df = mentions_df.loc[mentions_df['index'].isin(l)]\n",
    "new_mentions_df.head()"
   ]
  },
  {
   "cell_type": "code",
   "execution_count": 356,
   "metadata": {},
   "outputs": [
    {
     "name": "stdout",
     "output_type": "stream",
     "text": [
      "(114, 12)\n",
      "(127, 2)\n"
     ]
    }
   ],
   "source": [
    "print(data.shape)\n",
    "print(mentions_df.shape)"
   ]
  },
  {
   "cell_type": "code",
   "execution_count": 911,
   "metadata": {},
   "outputs": [
    {
     "data": {
      "text/html": [
       "<div>\n",
       "<style scoped>\n",
       "    .dataframe tbody tr th:only-of-type {\n",
       "        vertical-align: middle;\n",
       "    }\n",
       "\n",
       "    .dataframe tbody tr th {\n",
       "        vertical-align: top;\n",
       "    }\n",
       "\n",
       "    .dataframe thead th {\n",
       "        text-align: right;\n",
       "    }\n",
       "</style>\n",
       "<table border=\"1\" class=\"dataframe\">\n",
       "  <thead>\n",
       "    <tr style=\"text-align: right;\">\n",
       "      <th></th>\n",
       "      <th>Unnamed: 0</th>\n",
       "      <th>Unnamed: 0.1</th>\n",
       "      <th>screen_name</th>\n",
       "      <th>description</th>\n",
       "      <th>number_of_tweets</th>\n",
       "      <th>following</th>\n",
       "      <th>followers</th>\n",
       "      <th>likes</th>\n",
       "      <th>retweets</th>\n",
       "      <th>hashtags</th>\n",
       "      <th>mentions</th>\n",
       "      <th>influence_score</th>\n",
       "      <th>popularity</th>\n",
       "      <th>index</th>\n",
       "      <th>mentions_count</th>\n",
       "      <th>relevance_score</th>\n",
       "    </tr>\n",
       "  </thead>\n",
       "  <tbody>\n",
       "    <tr>\n",
       "      <td>110</td>\n",
       "      <td>118</td>\n",
       "      <td>MBuhari</td>\n",
       "      <td>MBuhari</td>\n",
       "      <td>This is the official account of Muhammadu Buha...</td>\n",
       "      <td>4730</td>\n",
       "      <td>26</td>\n",
       "      <td>3265988</td>\n",
       "      <td>1000482</td>\n",
       "      <td>278145</td>\n",
       "      <td>NaN</td>\n",
       "      <td>NaN</td>\n",
       "      <td>3265962</td>\n",
       "      <td>1278627</td>\n",
       "      <td>NaN</td>\n",
       "      <td>0.0</td>\n",
       "      <td>278145.0</td>\n",
       "    </tr>\n",
       "    <tr>\n",
       "      <td>77</td>\n",
       "      <td>85</td>\n",
       "      <td>Trevornoah</td>\n",
       "      <td>Trevornoah</td>\n",
       "      <td>Comedian from South Africa. I was in the crowd...</td>\n",
       "      <td>11186</td>\n",
       "      <td>325</td>\n",
       "      <td>10798902</td>\n",
       "      <td>1310859</td>\n",
       "      <td>269364</td>\n",
       "      <td>NaN</td>\n",
       "      <td>NaN</td>\n",
       "      <td>10798577</td>\n",
       "      <td>1580223</td>\n",
       "      <td>NaN</td>\n",
       "      <td>0.0</td>\n",
       "      <td>269364.0</td>\n",
       "    </tr>\n",
       "    <tr>\n",
       "      <td>74</td>\n",
       "      <td>82</td>\n",
       "      <td>Julius_S_Malema</td>\n",
       "      <td>Julius_S_Malema</td>\n",
       "      <td>Commander in Chief of Economic Freedom Fighter...</td>\n",
       "      <td>37178</td>\n",
       "      <td>652</td>\n",
       "      <td>3123242</td>\n",
       "      <td>1199508</td>\n",
       "      <td>254705</td>\n",
       "      <td>NaN</td>\n",
       "      <td>NaN</td>\n",
       "      <td>3122590</td>\n",
       "      <td>1454213</td>\n",
       "      <td>NaN</td>\n",
       "      <td>0.0</td>\n",
       "      <td>254705.0</td>\n",
       "    </tr>\n",
       "    <tr>\n",
       "      <td>46</td>\n",
       "      <td>54</td>\n",
       "      <td>MbuyiseniNdlozi</td>\n",
       "      <td>MbuyiseniNdlozi</td>\n",
       "      <td>EFF Commissar &amp; Member of Parliament - @EFFSou...</td>\n",
       "      <td>35887</td>\n",
       "      <td>5473</td>\n",
       "      <td>1071914</td>\n",
       "      <td>1155395</td>\n",
       "      <td>229635</td>\n",
       "      <td>NaN</td>\n",
       "      <td>NaN</td>\n",
       "      <td>1066441</td>\n",
       "      <td>1385030</td>\n",
       "      <td>NaN</td>\n",
       "      <td>0.0</td>\n",
       "      <td>229635.0</td>\n",
       "    </tr>\n",
       "    <tr>\n",
       "      <td>82</td>\n",
       "      <td>90</td>\n",
       "      <td>PresidencyZA</td>\n",
       "      <td>PresidencyZA</td>\n",
       "      <td>This is the official Twitter page of The Presi...</td>\n",
       "      <td>18839</td>\n",
       "      <td>14</td>\n",
       "      <td>1595945</td>\n",
       "      <td>337064</td>\n",
       "      <td>143158</td>\n",
       "      <td>NaN</td>\n",
       "      <td>NaN</td>\n",
       "      <td>1595931</td>\n",
       "      <td>480222</td>\n",
       "      <td>NaN</td>\n",
       "      <td>0.0</td>\n",
       "      <td>143158.0</td>\n",
       "    </tr>\n",
       "    <tr>\n",
       "      <td>93</td>\n",
       "      <td>101</td>\n",
       "      <td>KagutaMuseveni</td>\n",
       "      <td>KagutaMuseveni</td>\n",
       "      <td>President of the Republic of Uganda</td>\n",
       "      <td>6640</td>\n",
       "      <td>28</td>\n",
       "      <td>1807416</td>\n",
       "      <td>680723</td>\n",
       "      <td>127443</td>\n",
       "      <td>NaN</td>\n",
       "      <td>NaN</td>\n",
       "      <td>1807388</td>\n",
       "      <td>808166</td>\n",
       "      <td>NaN</td>\n",
       "      <td>0.0</td>\n",
       "      <td>127443.0</td>\n",
       "    </tr>\n",
       "    <tr>\n",
       "      <td>12</td>\n",
       "      <td>20</td>\n",
       "      <td>malonebarry</td>\n",
       "      <td>malonebarry</td>\n",
       "      <td>Executive Producer, @AJStream. Previously: Al ...</td>\n",
       "      <td>35171</td>\n",
       "      <td>2988</td>\n",
       "      <td>28423</td>\n",
       "      <td>339468</td>\n",
       "      <td>120958</td>\n",
       "      <td>NaN</td>\n",
       "      <td>NaN</td>\n",
       "      <td>25435</td>\n",
       "      <td>460426</td>\n",
       "      <td>NaN</td>\n",
       "      <td>0.0</td>\n",
       "      <td>120958.0</td>\n",
       "    </tr>\n",
       "    <tr>\n",
       "      <td>104</td>\n",
       "      <td>112</td>\n",
       "      <td>NAkufoAddo</td>\n",
       "      <td>NAkufoAddo</td>\n",
       "      <td>Official Twitter account of Nana Addo Dankwa A...</td>\n",
       "      <td>7086</td>\n",
       "      <td>351</td>\n",
       "      <td>1502265</td>\n",
       "      <td>538089</td>\n",
       "      <td>99677</td>\n",
       "      <td>NaN</td>\n",
       "      <td>NaN</td>\n",
       "      <td>1501914</td>\n",
       "      <td>637766</td>\n",
       "      <td>NaN</td>\n",
       "      <td>0.0</td>\n",
       "      <td>99677.0</td>\n",
       "    </tr>\n",
       "    <tr>\n",
       "      <td>91</td>\n",
       "      <td>99</td>\n",
       "      <td>SudanPMHamdok</td>\n",
       "      <td>SudanPMHamdok</td>\n",
       "      <td>The official account of the Prime Minister of ...</td>\n",
       "      <td>649</td>\n",
       "      <td>115</td>\n",
       "      <td>368579</td>\n",
       "      <td>491083</td>\n",
       "      <td>95245</td>\n",
       "      <td>NaN</td>\n",
       "      <td>NaN</td>\n",
       "      <td>368464</td>\n",
       "      <td>586328</td>\n",
       "      <td>NaN</td>\n",
       "      <td>0.0</td>\n",
       "      <td>95245.0</td>\n",
       "    </tr>\n",
       "    <tr>\n",
       "      <td>75</td>\n",
       "      <td>83</td>\n",
       "      <td>News24</td>\n",
       "      <td>News24</td>\n",
       "      <td>South Africa's premier online news resource. F...</td>\n",
       "      <td>322393</td>\n",
       "      <td>631</td>\n",
       "      <td>3573013</td>\n",
       "      <td>197685</td>\n",
       "      <td>81459</td>\n",
       "      <td>NaN</td>\n",
       "      <td>NaN</td>\n",
       "      <td>3572382</td>\n",
       "      <td>279144</td>\n",
       "      <td>NaN</td>\n",
       "      <td>0.0</td>\n",
       "      <td>81459.0</td>\n",
       "    </tr>\n",
       "  </tbody>\n",
       "</table>\n",
       "</div>"
      ],
      "text/plain": [
       "     Unnamed: 0     Unnamed: 0.1      screen_name  \\\n",
       "110         118          MBuhari          MBuhari   \n",
       "77           85       Trevornoah       Trevornoah   \n",
       "74           82  Julius_S_Malema  Julius_S_Malema   \n",
       "46           54  MbuyiseniNdlozi  MbuyiseniNdlozi   \n",
       "82           90     PresidencyZA     PresidencyZA   \n",
       "93          101   KagutaMuseveni   KagutaMuseveni   \n",
       "12           20      malonebarry      malonebarry   \n",
       "104         112       NAkufoAddo       NAkufoAddo   \n",
       "91           99    SudanPMHamdok    SudanPMHamdok   \n",
       "75           83           News24           News24   \n",
       "\n",
       "                                           description  number_of_tweets  \\\n",
       "110  This is the official account of Muhammadu Buha...              4730   \n",
       "77   Comedian from South Africa. I was in the crowd...             11186   \n",
       "74   Commander in Chief of Economic Freedom Fighter...             37178   \n",
       "46   EFF Commissar & Member of Parliament - @EFFSou...             35887   \n",
       "82   This is the official Twitter page of The Presi...             18839   \n",
       "93                 President of the Republic of Uganda              6640   \n",
       "12   Executive Producer, @AJStream. Previously: Al ...             35171   \n",
       "104  Official Twitter account of Nana Addo Dankwa A...              7086   \n",
       "91   The official account of the Prime Minister of ...               649   \n",
       "75   South Africa's premier online news resource. F...            322393   \n",
       "\n",
       "     following  followers    likes  retweets  hashtags  mentions  \\\n",
       "110         26    3265988  1000482    278145       NaN       NaN   \n",
       "77         325   10798902  1310859    269364       NaN       NaN   \n",
       "74         652    3123242  1199508    254705       NaN       NaN   \n",
       "46        5473    1071914  1155395    229635       NaN       NaN   \n",
       "82          14    1595945   337064    143158       NaN       NaN   \n",
       "93          28    1807416   680723    127443       NaN       NaN   \n",
       "12        2988      28423   339468    120958       NaN       NaN   \n",
       "104        351    1502265   538089     99677       NaN       NaN   \n",
       "91         115     368579   491083     95245       NaN       NaN   \n",
       "75         631    3573013   197685     81459       NaN       NaN   \n",
       "\n",
       "     influence_score  popularity index  mentions_count  relevance_score  \n",
       "110          3265962     1278627   NaN             0.0         278145.0  \n",
       "77          10798577     1580223   NaN             0.0         269364.0  \n",
       "74           3122590     1454213   NaN             0.0         254705.0  \n",
       "46           1066441     1385030   NaN             0.0         229635.0  \n",
       "82           1595931      480222   NaN             0.0         143158.0  \n",
       "93           1807388      808166   NaN             0.0         127443.0  \n",
       "12             25435      460426   NaN             0.0         120958.0  \n",
       "104          1501914      637766   NaN             0.0          99677.0  \n",
       "91            368464      586328   NaN             0.0          95245.0  \n",
       "75           3572382      279144   NaN             0.0          81459.0  "
      ]
     },
     "execution_count": 911,
     "metadata": {},
     "output_type": "execute_result"
    }
   ],
   "source": [
    "# adding the mentions column\n",
    "''' now we got two dataframes with mentions and retweets details, \n",
    "    we wish to merge them then do the relevance score. Left join will be used.\n",
    "    For the columns in 'data' that don't exist in 'mentions_df', the mentions_count \n",
    "    will be filled with 0.'''\n",
    "\n",
    "# merged = pd.merge(the_guys, new_mentions_df, on=\"index\", how = 'inner')\n",
    "merged = pd.merge(left=data, right=mentions_df, left_on='Unnamed: 0.1', right_on='index', how = 'left')\n",
    "merged['mentions_count'] = merged['mentions_count'].fillna(0)\n",
    "merged['relevance_score'] = merged['retweets'] + merged['mentions_count']\n",
    "r_ranks = merged.sort_values(by = 'relevance_score', ascending = False)\n",
    "r_ranks = r_ranks.head(10)\n",
    "r_ranks"
   ]
  },
  {
   "cell_type": "code",
   "execution_count": 358,
   "metadata": {},
   "outputs": [
    {
     "data": {
      "text/plain": [
       "Text(0, 0.5, 'relevance scores')"
      ]
     },
     "execution_count": 358,
     "metadata": {},
     "output_type": "execute_result"
    },
    {
     "data": {
      "image/png": "[encoded data removed]",
      "text/plain": [
       "<Figure size 1008x720 with 1 Axes>"
      ]
     },
     "metadata": {
      "needs_background": "light"
     },
     "output_type": "display_data"
    }
   ],
   "source": [
    "fig, ax = plt.subplots(figsize=(14,10))\n",
    "sns.barplot(x = r_ranks['Unnamed: 0.1'], y = r_ranks['relevance_score'], ax = ax)\n",
    "plt.title('A bar plot showing relevance scores based on retweets & mentions of most influencial Africans')\n",
    "plt.xticks(rotation=45)\n",
    "plt.xlabel('screen names')\n",
    "plt.ylabel('relevance scores')"
   ]
  },
  {
   "cell_type": "markdown",
   "metadata": {},
   "source": [
    "## d). Hashtags\n"
   ]
  },
  {
   "cell_type": "code",
   "execution_count": 333,
   "metadata": {},
   "outputs": [],
   "source": [
    "#get the hashtags from the tweets\n",
    "tags = pd.DataFrame(columns=['hashtags'])\n",
    "def get_tags(path): \n",
    "    data = pd.read_csv(path)\n",
    "    tweets = data['text'].to_list()\n",
    "    global mentions\n",
    "    hashtags = []\n",
    "    for element in tweets:\n",
    "        for string in element.split(' '):\n",
    "            if string.startswith('#'):\n",
    "                if len(string) > 1:\n",
    "                    hashtags.append(string)\n",
    "\n",
    "    tags.loc[path, 'hashtags'] = hashtags\n",
    "\n",
    "    return tags\n",
    "\n",
    "for path in file_paths:\n",
    "    try:\n",
    "        ts = get_tags(path)\n",
    "    except Exception:\n",
    "        pass"
   ]
  },
  {
   "cell_type": "code",
   "execution_count": 359,
   "metadata": {},
   "outputs": [
    {
     "data": {
      "text/html": [
       "<div>\n",
       "<style scoped>\n",
       "    .dataframe tbody tr th:only-of-type {\n",
       "        vertical-align: middle;\n",
       "    }\n",
       "\n",
       "    .dataframe tbody tr th {\n",
       "        vertical-align: top;\n",
       "    }\n",
       "\n",
       "    .dataframe thead th {\n",
       "        text-align: right;\n",
       "    }\n",
       "</style>\n",
       "<table border=\"1\" class=\"dataframe\">\n",
       "  <thead>\n",
       "    <tr style=\"text-align: right;\">\n",
       "      <th></th>\n",
       "      <th>hashtags</th>\n",
       "    </tr>\n",
       "  </thead>\n",
       "  <tbody>\n",
       "    <tr>\n",
       "      <td>/home/ada/10academy/training /week1/monday/csvs/both/@gettleman_tweets.csv</td>\n",
       "      <td>[#PLA, #IndianArmy,, #COVID19, #InternationalY...</td>\n",
       "    </tr>\n",
       "    <tr>\n",
       "      <td>/home/ada/10academy/training /week1/monday/csvs/both/@a24media_tweets.csv</td>\n",
       "      <td>[#tue\\xe2\\x80\\xa6\", #YeboWatchParty, #Nkoloso,...</td>\n",
       "    </tr>\n",
       "    <tr>\n",
       "      <td>/home/ada/10academy/training /week1/monday/csvs/both/@AfricaCheck_tweets.csv</td>\n",
       "      <td>[#COVID19, #Nigeria\\xe2\\x80\\x99s, #African, #S...</td>\n",
       "    </tr>\n",
       "    <tr>\n",
       "      <td>/home/ada/10academy/training /week1/monday/csvs/both/@JamesCopnall_tweets.csv</td>\n",
       "      <td>[#Sudan, #Sudan, #Malawi, #BBCFocusOnAfrica\", ...</td>\n",
       "    </tr>\n",
       "    <tr>\n",
       "      <td>/home/ada/10academy/training /week1/monday/csvs/both/@oafrica_tweets.csv</td>\n",
       "      <td>[#Cameroon, #BringBackOurInternet, #Kigali:, #...</td>\n",
       "    </tr>\n",
       "  </tbody>\n",
       "</table>\n",
       "</div>"
      ],
      "text/plain": [
       "                                                                                             hashtags\n",
       "/home/ada/10academy/training /week1/monday/csvs...  [#PLA, #IndianArmy,, #COVID19, #InternationalY...\n",
       "/home/ada/10academy/training /week1/monday/csvs...  [#tue\\xe2\\x80\\xa6\", #YeboWatchParty, #Nkoloso,...\n",
       "/home/ada/10academy/training /week1/monday/csvs...  [#COVID19, #Nigeria\\xe2\\x80\\x99s, #African, #S...\n",
       "/home/ada/10academy/training /week1/monday/csvs...  [#Sudan, #Sudan, #Malawi, #BBCFocusOnAfrica\", ...\n",
       "/home/ada/10academy/training /week1/monday/csvs...  [#Cameroon, #BringBackOurInternet, #Kigali:, #..."
      ]
     },
     "execution_count": 359,
     "metadata": {},
     "output_type": "execute_result"
    }
   ],
   "source": [
    "ts.head()"
   ]
  },
  {
   "cell_type": "code",
   "execution_count": 365,
   "metadata": {},
   "outputs": [
    {
     "data": {
      "text/html": [
       "<div>\n",
       "<style scoped>\n",
       "    .dataframe tbody tr th:only-of-type {\n",
       "        vertical-align: middle;\n",
       "    }\n",
       "\n",
       "    .dataframe tbody tr th {\n",
       "        vertical-align: top;\n",
       "    }\n",
       "\n",
       "    .dataframe thead th {\n",
       "        text-align: right;\n",
       "    }\n",
       "</style>\n",
       "<table border=\"1\" class=\"dataframe\">\n",
       "  <thead>\n",
       "    <tr style=\"text-align: right;\">\n",
       "      <th></th>\n",
       "      <th>hashtags</th>\n",
       "      <th>tags</th>\n",
       "    </tr>\n",
       "  </thead>\n",
       "  <tbody>\n",
       "    <tr>\n",
       "      <td>/home/ada/10academy/training /week1/monday/csvs/both/@gettleman_tweets.csv</td>\n",
       "      <td>[#PLA, #IndianArmy,, #COVID19, #InternationalY...</td>\n",
       "      <td>[#PLA, #IndianArmy,, #COVID19, #InternationalY...</td>\n",
       "    </tr>\n",
       "    <tr>\n",
       "      <td>/home/ada/10academy/training /week1/monday/csvs/both/@a24media_tweets.csv</td>\n",
       "      <td>[#tue\\xe2\\x80\\xa6\", #YeboWatchParty, #Nkoloso,...</td>\n",
       "      <td>[#tue\\xe2\\x80\\xa6\", #YeboWatchParty, #Nkoloso,...</td>\n",
       "    </tr>\n",
       "    <tr>\n",
       "      <td>/home/ada/10academy/training /week1/monday/csvs/both/@AfricaCheck_tweets.csv</td>\n",
       "      <td>[#COVID19, #Nigeria\\xe2\\x80\\x99s, #African, #S...</td>\n",
       "      <td>[#COVID19, #Nigeria\\xe2\\x80\\x99s, #African, #S...</td>\n",
       "    </tr>\n",
       "    <tr>\n",
       "      <td>/home/ada/10academy/training /week1/monday/csvs/both/@JamesCopnall_tweets.csv</td>\n",
       "      <td>[#Sudan, #Sudan, #Malawi, #BBCFocusOnAfrica\", ...</td>\n",
       "      <td>[#Sudan, #Sudan, #Malawi, #BBCFocusOnAfrica\", ...</td>\n",
       "    </tr>\n",
       "    <tr>\n",
       "      <td>/home/ada/10academy/training /week1/monday/csvs/both/@oafrica_tweets.csv</td>\n",
       "      <td>[#Cameroon, #BringBackOurInternet, #Kigali:, #...</td>\n",
       "      <td>[#Cameroon, #BringBackOurInternet, #Kigali:, #...</td>\n",
       "    </tr>\n",
       "  </tbody>\n",
       "</table>\n",
       "</div>"
      ],
      "text/plain": [
       "                                                                                             hashtags  \\\n",
       "/home/ada/10academy/training /week1/monday/csvs...  [#PLA, #IndianArmy,, #COVID19, #InternationalY...   \n",
       "/home/ada/10academy/training /week1/monday/csvs...  [#tue\\xe2\\x80\\xa6\", #YeboWatchParty, #Nkoloso,...   \n",
       "/home/ada/10academy/training /week1/monday/csvs...  [#COVID19, #Nigeria\\xe2\\x80\\x99s, #African, #S...   \n",
       "/home/ada/10academy/training /week1/monday/csvs...  [#Sudan, #Sudan, #Malawi, #BBCFocusOnAfrica\", ...   \n",
       "/home/ada/10academy/training /week1/monday/csvs...  [#Cameroon, #BringBackOurInternet, #Kigali:, #...   \n",
       "\n",
       "                                                                                                 tags  \n",
       "/home/ada/10academy/training /week1/monday/csvs...  [#PLA, #IndianArmy,, #COVID19, #InternationalY...  \n",
       "/home/ada/10academy/training /week1/monday/csvs...  [#tue\\xe2\\x80\\xa6\", #YeboWatchParty, #Nkoloso,...  \n",
       "/home/ada/10academy/training /week1/monday/csvs...  [#COVID19, #Nigeria\\xe2\\x80\\x99s, #African, #S...  \n",
       "/home/ada/10academy/training /week1/monday/csvs...  [#Sudan, #Sudan, #Malawi, #BBCFocusOnAfrica\", ...  \n",
       "/home/ada/10academy/training /week1/monday/csvs...  [#Cameroon, #BringBackOurInternet, #Kigali:, #...  "
      ]
     },
     "execution_count": 365,
     "metadata": {},
     "output_type": "execute_result"
    }
   ],
   "source": [
    "# add a name column (modify the index): df should represent a screen name and corresponding hashtags they use.\n",
    "h = ts['hashtags'].to_list()\n",
    "ts.head()"
   ]
  },
  {
   "cell_type": "code",
   "execution_count": 379,
   "metadata": {},
   "outputs": [
    {
     "data": {
      "text/html": [
       "<div>\n",
       "<style scoped>\n",
       "    .dataframe tbody tr th:only-of-type {\n",
       "        vertical-align: middle;\n",
       "    }\n",
       "\n",
       "    .dataframe tbody tr th {\n",
       "        vertical-align: top;\n",
       "    }\n",
       "\n",
       "    .dataframe thead th {\n",
       "        text-align: right;\n",
       "    }\n",
       "</style>\n",
       "<table border=\"1\" class=\"dataframe\">\n",
       "  <thead>\n",
       "    <tr style=\"text-align: right;\">\n",
       "      <th></th>\n",
       "      <th>index</th>\n",
       "      <th>hashtags</th>\n",
       "    </tr>\n",
       "  </thead>\n",
       "  <tbody>\n",
       "    <tr>\n",
       "      <td>0</td>\n",
       "      <td>@gettleman_tweets.csv</td>\n",
       "      <td>[#PLA, #IndianArmy,, #COVID19, #InternationalY...</td>\n",
       "    </tr>\n",
       "    <tr>\n",
       "      <td>1</td>\n",
       "      <td>@a24media_tweets.csv</td>\n",
       "      <td>[#tue\\xe2\\x80\\xa6\", #YeboWatchParty, #Nkoloso,...</td>\n",
       "    </tr>\n",
       "    <tr>\n",
       "      <td>2</td>\n",
       "      <td>@AfricaCheck_tweets.csv</td>\n",
       "      <td>[#COVID19, #Nigeria\\xe2\\x80\\x99s, #African, #S...</td>\n",
       "    </tr>\n",
       "    <tr>\n",
       "      <td>3</td>\n",
       "      <td>@JamesCopnall_tweets.csv</td>\n",
       "      <td>[#Sudan, #Sudan, #Malawi, #BBCFocusOnAfrica\", ...</td>\n",
       "    </tr>\n",
       "    <tr>\n",
       "      <td>4</td>\n",
       "      <td>@oafrica_tweets.csv</td>\n",
       "      <td>[#Cameroon, #BringBackOurInternet, #Kigali:, #...</td>\n",
       "    </tr>\n",
       "  </tbody>\n",
       "</table>\n",
       "</div>"
      ],
      "text/plain": [
       "                      index                                           hashtags\n",
       "0     @gettleman_tweets.csv  [#PLA, #IndianArmy,, #COVID19, #InternationalY...\n",
       "1      @a24media_tweets.csv  [#tue\\xe2\\x80\\xa6\", #YeboWatchParty, #Nkoloso,...\n",
       "2   @AfricaCheck_tweets.csv  [#COVID19, #Nigeria\\xe2\\x80\\x99s, #African, #S...\n",
       "3  @JamesCopnall_tweets.csv  [#Sudan, #Sudan, #Malawi, #BBCFocusOnAfrica\", ...\n",
       "4       @oafrica_tweets.csv  [#Cameroon, #BringBackOurInternet, #Kigali:, #..."
      ]
     },
     "execution_count": 379,
     "metadata": {},
     "output_type": "execute_result"
    }
   ],
   "source": [
    "# clean the index column\n",
    "index_list = ts.index.to_list()\n",
    "screen_names = []\n",
    "for l in index_list:\n",
    "    l = l.split('/')\n",
    "    l = l[-1]\n",
    "    screen_names.append(l)\n",
    "    \n",
    "ts.index = screen_names\n",
    "ts = ts.reset_index()\n",
    "ts.head()"
   ]
  },
  {
   "cell_type": "code",
   "execution_count": 382,
   "metadata": {},
   "outputs": [
    {
     "data": {
      "text/html": [
       "<div>\n",
       "<style scoped>\n",
       "    .dataframe tbody tr th:only-of-type {\n",
       "        vertical-align: middle;\n",
       "    }\n",
       "\n",
       "    .dataframe tbody tr th {\n",
       "        vertical-align: top;\n",
       "    }\n",
       "\n",
       "    .dataframe thead th {\n",
       "        text-align: right;\n",
       "    }\n",
       "</style>\n",
       "<table border=\"1\" class=\"dataframe\">\n",
       "  <thead>\n",
       "    <tr style=\"text-align: right;\">\n",
       "      <th></th>\n",
       "      <th>index</th>\n",
       "      <th>hashtags</th>\n",
       "    </tr>\n",
       "  </thead>\n",
       "  <tbody>\n",
       "    <tr>\n",
       "      <td>0</td>\n",
       "      <td>@gettleman</td>\n",
       "      <td>[#PLA, #IndianArmy,, #COVID19, #InternationalY...</td>\n",
       "    </tr>\n",
       "    <tr>\n",
       "      <td>1</td>\n",
       "      <td>@a24media</td>\n",
       "      <td>[#tue\\xe2\\x80\\xa6\", #YeboWatchParty, #Nkoloso,...</td>\n",
       "    </tr>\n",
       "    <tr>\n",
       "      <td>2</td>\n",
       "      <td>@AfricaCheck</td>\n",
       "      <td>[#COVID19, #Nigeria\\xe2\\x80\\x99s, #African, #S...</td>\n",
       "    </tr>\n",
       "    <tr>\n",
       "      <td>3</td>\n",
       "      <td>@JamesCopnall</td>\n",
       "      <td>[#Sudan, #Sudan, #Malawi, #BBCFocusOnAfrica\", ...</td>\n",
       "    </tr>\n",
       "    <tr>\n",
       "      <td>4</td>\n",
       "      <td>@oafrica</td>\n",
       "      <td>[#Cameroon, #BringBackOurInternet, #Kigali:, #...</td>\n",
       "    </tr>\n",
       "  </tbody>\n",
       "</table>\n",
       "</div>"
      ],
      "text/plain": [
       "           index                                           hashtags\n",
       "0     @gettleman  [#PLA, #IndianArmy,, #COVID19, #InternationalY...\n",
       "1      @a24media  [#tue\\xe2\\x80\\xa6\", #YeboWatchParty, #Nkoloso,...\n",
       "2   @AfricaCheck  [#COVID19, #Nigeria\\xe2\\x80\\x99s, #African, #S...\n",
       "3  @JamesCopnall  [#Sudan, #Sudan, #Malawi, #BBCFocusOnAfrica\", ...\n",
       "4       @oafrica  [#Cameroon, #BringBackOurInternet, #Kigali:, #..."
      ]
     },
     "execution_count": 382,
     "metadata": {},
     "output_type": "execute_result"
    }
   ],
   "source": [
    "names_list = ts['index'].to_list()\n",
    "s_names = []\n",
    "for l in names_list:\n",
    "    l = l.split('_')\n",
    "    l = l[0]\n",
    "    s_names.append(l)\n",
    "\n",
    "ts['index'] = s_names\n",
    "ts.head()"
   ]
  },
  {
   "cell_type": "markdown",
   "metadata": {},
   "source": [
    "### a). Popular hashtags overall"
   ]
  },
  {
   "cell_type": "code",
   "execution_count": 418,
   "metadata": {},
   "outputs": [
    {
     "data": {
      "text/html": [
       "<div>\n",
       "<style scoped>\n",
       "    .dataframe tbody tr th:only-of-type {\n",
       "        vertical-align: middle;\n",
       "    }\n",
       "\n",
       "    .dataframe tbody tr th {\n",
       "        vertical-align: top;\n",
       "    }\n",
       "\n",
       "    .dataframe thead th {\n",
       "        text-align: right;\n",
       "    }\n",
       "</style>\n",
       "<table border=\"1\" class=\"dataframe\">\n",
       "  <thead>\n",
       "    <tr style=\"text-align: right;\">\n",
       "      <th></th>\n",
       "      <th>tag_counts</th>\n",
       "    </tr>\n",
       "  </thead>\n",
       "  <tbody>\n",
       "    <tr>\n",
       "      <td>#Africa</td>\n",
       "      <td>2183</td>\n",
       "    </tr>\n",
       "    <tr>\n",
       "      <td>#COVID19</td>\n",
       "      <td>2118</td>\n",
       "    </tr>\n",
       "    <tr>\n",
       "      <td>#IBK</td>\n",
       "      <td>1282</td>\n",
       "    </tr>\n",
       "    <tr>\n",
       "      <td>#Ramaphosa:</td>\n",
       "      <td>1202</td>\n",
       "    </tr>\n",
       "    <tr>\n",
       "      <td>#Somalia</td>\n",
       "      <td>948</td>\n",
       "    </tr>\n",
       "    <tr>\n",
       "      <td>#Burundi</td>\n",
       "      <td>921</td>\n",
       "    </tr>\n",
       "    <tr>\n",
       "      <td>#Kenya</td>\n",
       "      <td>748</td>\n",
       "    </tr>\n",
       "    <tr>\n",
       "      <td>#Knysna</td>\n",
       "      <td>702</td>\n",
       "    </tr>\n",
       "    <tr>\n",
       "      <td>#Nigeria</td>\n",
       "      <td>696</td>\n",
       "    </tr>\n",
       "    <tr>\n",
       "      <td>#African</td>\n",
       "      <td>599</td>\n",
       "    </tr>\n",
       "    <tr>\n",
       "      <td>#Malawi</td>\n",
       "      <td>444</td>\n",
       "    </tr>\n",
       "    <tr>\n",
       "      <td>#Ethiopia</td>\n",
       "      <td>421</td>\n",
       "    </tr>\n",
       "    <tr>\n",
       "      <td>#LiveAMP</td>\n",
       "      <td>419</td>\n",
       "    </tr>\n",
       "    <tr>\n",
       "      <td>#SouthAfrica</td>\n",
       "      <td>394</td>\n",
       "    </tr>\n",
       "    <tr>\n",
       "      <td>#coronavirus</td>\n",
       "      <td>380</td>\n",
       "    </tr>\n",
       "  </tbody>\n",
       "</table>\n",
       "</div>"
      ],
      "text/plain": [
       "              tag_counts\n",
       "#Africa             2183\n",
       "#COVID19            2118\n",
       "#IBK                1282\n",
       "#Ramaphosa:         1202\n",
       "#Somalia             948\n",
       "#Burundi             921\n",
       "#Kenya               748\n",
       "#Knysna              702\n",
       "#Nigeria             696\n",
       "#African             599\n",
       "#Malawi              444\n",
       "#Ethiopia            421\n",
       "#LiveAMP             419\n",
       "#SouthAfrica         394\n",
       "#coronavirus         380"
      ]
     },
     "execution_count": 418,
     "metadata": {},
     "output_type": "execute_result"
    }
   ],
   "source": [
    "tags_list = ts['hashtags'].to_list()\n",
    "f_tags = [y for x in tags_list for y in x]\n",
    "counts = Counter(f_tags)\n",
    "counts = dict(counts)\n",
    "tags_df = pd.DataFrame.from_dict(counts, orient = 'index')\n",
    "tags_df.columns = ['tag_counts']\n",
    "tags_df = tags_df.sort_values(by = 'tag_counts', ascending = False)\n",
    "tags_df.head(15)"
   ]
  },
  {
   "cell_type": "code",
   "execution_count": 425,
   "metadata": {},
   "outputs": [
    {
     "data": {
      "image/png": "[encoded data removed]",
      "text/plain": [
       "<Figure size 1008x720 with 1 Axes>"
      ]
     },
     "metadata": {},
     "output_type": "display_data"
    }
   ],
   "source": [
    "top_20 = tags_df.head(20)\n",
    "fig, ax = plt.subplots(figsize=(14,10))\n",
    "sns.barplot(x = top_20.index, y = top_20['tag_counts'], ax = ax)\n",
    "plt.title('A bar plot showing top twenty hashtags overall used by the influencers')\n",
    "plt.xticks(rotation=45)\n",
    "plt.xlabel('hashtags')\n",
    "plt.ylabel('count')\n",
    "sns.set_style('whitegrid')"
   ]
  },
  {
   "cell_type": "markdown",
   "metadata": {},
   "source": [
    "Other than country names, popular tags are ***covid19, coronavirus, Africa, IBK, Ramaphosa, Knysna*** and ***LiveAmp***"
   ]
  },
  {
   "cell_type": "markdown",
   "metadata": {},
   "source": [
    "### b).User specific top 5 hashtags"
   ]
  },
  {
   "cell_type": "code",
   "execution_count": 550,
   "metadata": {
    "scrolled": true
   },
   "outputs": [],
   "source": [
    "''' Do a count of hashtags per person, fetch top 10 hashtags, make a df using them'''\n",
    "\n",
    "tags_list = ts['hashtags'].to_list()\n",
    "n_list = ts['index'].to_list()\n",
    "\n",
    "tags_count = pd.DataFrame(columns = ['top_five_hashtags'])\n",
    "def individual_tag_count(l, name):\n",
    "    counts = Counter(l)\n",
    "    top = counts.most_common(5)\n",
    "    the_top_tags = [t[0] for t in top]\n",
    "    tags_count.loc[name] = [the_top_tags]\n",
    "    \n",
    "    return tags_count"
   ]
  },
  {
   "cell_type": "code",
   "execution_count": 551,
   "metadata": {},
   "outputs": [],
   "source": [
    "for l, name in zip(tags_list, n_list):\n",
    "    top_tags_df = individual_tag_count(l, name)"
   ]
  },
  {
   "cell_type": "code",
   "execution_count": 552,
   "metadata": {},
   "outputs": [
    {
     "data": {
      "text/html": [
       "<div>\n",
       "<style scoped>\n",
       "    .dataframe tbody tr th:only-of-type {\n",
       "        vertical-align: middle;\n",
       "    }\n",
       "\n",
       "    .dataframe tbody tr th {\n",
       "        vertical-align: top;\n",
       "    }\n",
       "\n",
       "    .dataframe thead th {\n",
       "        text-align: right;\n",
       "    }\n",
       "</style>\n",
       "<table border=\"1\" class=\"dataframe\">\n",
       "  <thead>\n",
       "    <tr style=\"text-align: right;\">\n",
       "      <th></th>\n",
       "      <th>top_five_hashtags</th>\n",
       "    </tr>\n",
       "  </thead>\n",
       "  <tbody>\n",
       "    <tr>\n",
       "      <td>@gettleman</td>\n",
       "      <td>[#Rohingya, #India, #Kathua, #RohingyaCrisis, ...</td>\n",
       "    </tr>\n",
       "    <tr>\n",
       "      <td>@a24media</td>\n",
       "      <td>[#Africa', #Africa, #AfricaJournal, #Kenya, #T...</td>\n",
       "    </tr>\n",
       "    <tr>\n",
       "      <td>@AfricaCheck</td>\n",
       "      <td>[#SouthAfrica, #coronavirus, #Nigeria, #SouthA...</td>\n",
       "    </tr>\n",
       "    <tr>\n",
       "      <td>@JamesCopnall</td>\n",
       "      <td>[#Sudan, #SouthSudan, #Newsday, #SudanUprising...</td>\n",
       "    </tr>\n",
       "    <tr>\n",
       "      <td>@oafrica</td>\n",
       "      <td>[#Africa, #1stReads', #Rwanda, #tech, #telegeo...</td>\n",
       "    </tr>\n",
       "  </tbody>\n",
       "</table>\n",
       "</div>"
      ],
      "text/plain": [
       "                                               top_five_hashtags\n",
       "@gettleman     [#Rohingya, #India, #Kathua, #RohingyaCrisis, ...\n",
       "@a24media      [#Africa', #Africa, #AfricaJournal, #Kenya, #T...\n",
       "@AfricaCheck   [#SouthAfrica, #coronavirus, #Nigeria, #SouthA...\n",
       "@JamesCopnall  [#Sudan, #SouthSudan, #Newsday, #SudanUprising...\n",
       "@oafrica       [#Africa, #1stReads', #Rwanda, #tech, #telegeo..."
      ]
     },
     "execution_count": 552,
     "metadata": {},
     "output_type": "execute_result"
    }
   ],
   "source": [
    "top_tags_df.head()"
   ]
  },
  {
   "cell_type": "markdown",
   "metadata": {},
   "source": [
    "### c).Grouping individuals according to their hashtags similarities\n",
    "\n",
    "#### Assuming 10 groups"
   ]
  },
  {
   "cell_type": "code",
   "execution_count": 553,
   "metadata": {},
   "outputs": [
    {
     "data": {
      "text/plain": [
       "['#Africa',\n",
       " '#COVID19',\n",
       " '#Kenya',\n",
       " '#Somalia',\n",
       " '#coronavirus',\n",
       " '#Nigeria',\n",
       " '#Mogadishu',\n",
       " '#Ethiopia',\n",
       " '#SouthAfrica',\n",
       " '#BlackLivesMatter']"
      ]
     },
     "execution_count": 553,
     "metadata": {},
     "output_type": "execute_result"
    }
   ],
   "source": [
    "''' make a big list of all the individuals top 5 hashtags, pick the top 10 out of the big list,\n",
    "group the individuals based on their similarities in relation to those hashtags'''\n",
    "\n",
    "my_list = top_tags_df['top_five_hashtags'].to_list()\n",
    "flattened = [y for x in my_list for y in x]\n",
    "counts = Counter(flattened)\n",
    "top = counts.most_common(10)\n",
    "top_10_tags = [t[0] for t in top]\n",
    "top_10_tags"
   ]
  },
  {
   "cell_type": "code",
   "execution_count": 560,
   "metadata": {},
   "outputs": [
    {
     "data": {
      "image/png": "[encoded data removed]",
      "text/plain": [
       "<Figure size 720x648 with 1 Axes>"
      ]
     },
     "metadata": {},
     "output_type": "display_data"
    }
   ],
   "source": [
    "# top ten hashtags overall\n",
    "x = [t[0] for t in top]\n",
    "y = [t[1] for t in top]\n",
    "fig, ax = plt.subplots(figsize=(10,9))\n",
    "sns.barplot(x, y, ax = ax)\n",
    "plt.title('Top ten hashtags used overal amongst the leaders and influencers')\n",
    "plt.xticks(rotation=45)\n",
    "plt.xlabel('hashtags')\n",
    "plt.ylabel('count')\n",
    "sns.set_style('whitegrid')"
   ]
  },
  {
   "cell_type": "code",
   "execution_count": 608,
   "metadata": {},
   "outputs": [
    {
     "name": "stdout",
     "output_type": "stream",
     "text": [
      "#Africa guys \n",
      "\n",
      "@a24media\n",
      "@oafrica\n",
      "@PatrickNgowi\n",
      "@TheEIU\n",
      "@InvestInAfrica\n",
      "@JamalMOsman\n",
      "@forbeesta\n",
      "@africatechie\n",
      "@ayittey\n",
      "@africagathering\n",
      "@Aynte\n",
      "@rangerdiaries\n",
      "@ThinkAfricaFeed\n",
      "@AfricaGoodNews\n",
      "@MadeItInAfrica\n",
      "@AfricaResearch\n",
      "@africaprogress\n",
      "@IFCAfrica\n",
      "@JendayiFrazer\n",
      "@Mo\n",
      "@\n",
      "@Camfed\n",
      "@PaulKagame\n",
      "@USEmbalo\n"
     ]
    }
   ],
   "source": [
    "my_list = top_tags_df['top_five_hashtags'].to_list()\n",
    "names_list = top_tags_df.index.to_list()\n",
    "\n",
    "#Africa\n",
    "print('#Africa guys \\n')\n",
    "for name, l in zip(names_list, my_list):\n",
    "    if '#Africa' in l:\n",
    "        print(name)\n",
    "    "
   ]
  },
  {
   "cell_type": "code",
   "execution_count": 609,
   "metadata": {},
   "outputs": [
    {
     "name": "stdout",
     "output_type": "stream",
     "text": [
      "#COVID19 guys \n",
      "\n",
      "@CityTshwane\n",
      "@malonebarry\n",
      "@equal\n",
      "@africatechie\n",
      "@GautengProvince\n",
      "@willintune\n",
      "@cnbcafrica\n",
      "@MbuyiseniNdlozi\n",
      "@IFCAfrica\n",
      "@geoffreyyork\n",
      "@\n",
      "@Camfed\n",
      "@mailandguardian\n",
      "@EswatiniGovern1\n",
      "@FinanceSC\n",
      "@PresidencyZA\n",
      "@edmnangagwa\n",
      "@MinSantedj\n",
      "@PaulKagame\n",
      "@SouthSudanGov\n",
      "@KagutaMuseveni\n",
      "@Presidency\n"
     ]
    }
   ],
   "source": [
    "#COVID19\n",
    "print('#COVID19 guys \\n')\n",
    "for name, l in zip(names_list, my_list):\n",
    "    if '#COVID19' in l:\n",
    "        print(name)"
   ]
  },
  {
   "cell_type": "code",
   "execution_count": 610,
   "metadata": {},
   "outputs": [
    {
     "name": "stdout",
     "output_type": "stream",
     "text": [
      "#Kenya guys \n",
      "\n",
      "@a24media\n",
      "@Moadow\n",
      "@t\n",
      "@Hamza\n",
      "@ThinkAfricaFeed\n",
      "@AfricaResearch\n",
      "@JendayiFrazer\n",
      "@NDOCKenya\n",
      "@M\n"
     ]
    }
   ],
   "source": [
    "#Kenya\n",
    "print('#Kenya guys \\n')\n",
    "for name, l in zip(names_list, my_list):\n",
    "    if '#Kenya' in l:\n",
    "        print(name)"
   ]
  },
  {
   "cell_type": "code",
   "execution_count": 611,
   "metadata": {},
   "outputs": [
    {
     "name": "stdout",
     "output_type": "stream",
     "text": [
      "#Somalia guys \n",
      "\n",
      "@Moadow\n",
      "@JamalMOsman\n",
      "@t\n",
      "@forbeesta\n",
      "@Hamza\n",
      "@mary\n",
      "@Aynte\n",
      "@M\n"
     ]
    }
   ],
   "source": [
    "#Somalia\n",
    "print('#Somalia guys \\n')\n",
    "for name, l in zip(names_list, my_list):\n",
    "    if '#Somalia' in l:\n",
    "        print(name)"
   ]
  },
  {
   "cell_type": "code",
   "execution_count": 612,
   "metadata": {},
   "outputs": [
    {
     "name": "stdout",
     "output_type": "stream",
     "text": [
      "#coronavirus guys \n",
      "\n",
      "@AfricaCheck\n",
      "@malonebarry\n",
      "@Hamza\n",
      "@MbuyiseniNdlozi\n",
      "@geoffreyyork\n",
      "@hartleyr\n",
      "@PresidentBio\n"
     ]
    }
   ],
   "source": [
    "#coronavirus\n",
    "print('#coronavirus guys \\n')\n",
    "for name, l in zip(names_list, my_list):\n",
    "    if '#coronavirus' in l:\n",
    "        print(name)"
   ]
  },
  {
   "cell_type": "code",
   "execution_count": 613,
   "metadata": {},
   "outputs": [
    {
     "name": "stdout",
     "output_type": "stream",
     "text": [
      "#Nigeria guys \n",
      "\n",
      "@AfricaCheck\n",
      "@TheEIU\n",
      "@InvestInAfrica\n",
      "@ThinkAfricaFeed\n",
      "@AfricaResearch\n",
      "@JendayiFrazer\n",
      "@MBuhari\n"
     ]
    }
   ],
   "source": [
    "#Nigeria\n",
    "print('#Nigeria guys \\n')\n",
    "for name, l in zip(names_list, my_list):\n",
    "    if '#Nigeria' in l:\n",
    "        print(name)"
   ]
  },
  {
   "cell_type": "code",
   "execution_count": 614,
   "metadata": {},
   "outputs": [
    {
     "name": "stdout",
     "output_type": "stream",
     "text": [
      "#Mogadishu guys \n",
      "\n",
      "@Moadow\n",
      "@Hamza\n",
      "@mary\n",
      "@Aynte\n",
      "@M\n"
     ]
    }
   ],
   "source": [
    "#Mogadishu\n",
    "print('#Mogadishu guys \\n')\n",
    "for name, l in zip(names_list, my_list):\n",
    "    if '#Mogadishu' in l:\n",
    "        print(name)"
   ]
  },
  {
   "cell_type": "code",
   "execution_count": 615,
   "metadata": {},
   "outputs": [
    {
     "name": "stdout",
     "output_type": "stream",
     "text": [
      "#Ethiopia guys \n",
      "\n",
      "@Moadow\n",
      "@JamalMOsman\n",
      "@mary\n",
      "@willintune\n",
      "@geoffreyyork\n"
     ]
    }
   ],
   "source": [
    "#Ethiopia\n",
    "print('#Ethiopia guys \\n')\n",
    "for name, l in zip(names_list, my_list):\n",
    "    if '#Ethiopia' in l:\n",
    "        print(name)"
   ]
  },
  {
   "cell_type": "code",
   "execution_count": 607,
   "metadata": {},
   "outputs": [
    {
     "name": "stdout",
     "output_type": "stream",
     "text": [
      "#SouthAfrica guys \n",
      "\n",
      "@AfricaCheck\n",
      "@TheEIU\n",
      "@forbeesta\n",
      "@hartleyr\n"
     ]
    }
   ],
   "source": [
    "#SouthAfrica\n",
    "print('#SouthAfrica guys \\n')\n",
    "for name, l in zip(names_list, my_list):\n",
    "    if '#SouthAfrica' in l:\n",
    "        print(name)"
   ]
  },
  {
   "cell_type": "code",
   "execution_count": 606,
   "metadata": {},
   "outputs": [
    {
     "name": "stdout",
     "output_type": "stream",
     "text": [
      "#BlackLivesMatter guys \n",
      "\n",
      "@malonebarry\n",
      "@iamsuede\n",
      "@MbuyiseniNdlozi\n",
      "@mailandguardian\n"
     ]
    }
   ],
   "source": [
    "#BlackLivesMatter\n",
    "print('#BlackLivesMatter guys \\n')\n",
    "for name, l in zip(names_list, my_list):\n",
    "    if '#BlackLivesMatter' in l:\n",
    "        print(name)"
   ]
  },
  {
   "cell_type": "markdown",
   "metadata": {},
   "source": [
    "### d). A bar plot to show the fraction of influencers and top government officials by hashtag."
   ]
  },
  {
   "cell_type": "code",
   "execution_count": 617,
   "metadata": {},
   "outputs": [],
   "source": [
    "blm = ['@malonebarry', '@iamsuede', '@MbuyiseniNdlozi', '@mailandguardian']\n",
    "sa = ['@AfricaCheck','@TheEIU', '@forbeesta', '@hartleyr']\n",
    "ethiopia = ['@Moadow', '@JamalMOsman', '@mary', '@willintune', '@geoffreyyork']\n",
    "mogadishu = ['@Moadow', '@Hamza', '@mary', '@Aynte', '@M']\n",
    "nigeria = ['@AfricaCheck', '@TheEIU', '@InvestInAfrica', '@ThinkAfricaFeed', '@AfricaResearch', '@JendayiFrazer', '@MBuhari']\n",
    "rona = ['@AfricaCheck', '@malonebarry', '@Hamza', '@MbuyiseniNdlozi', '@geoffreyyork', '@hartleyr', '@PresidentBio']\n",
    "somalia = ['@Moadow', '@JamalMOsman', '@t', '@forbeesta', '@Hamza', '@mary', '@Aynte', '@M']\n",
    "kenya = ['@a24media', '@Moadow', '@t', '@Hamza', '@ThinkAfricaFeed', '@AfricaResearch', '@JendayiFrazer', '@NDOCKenya','@M']\n",
    "covid = ['@CityTshwane', '@malonebarry', '@equal', '@africatechie', '@GautengProvince', '@willintune', '@cnbcafrica', '@MbuyiseniNdlozi',\n",
    "         '@IFCAfrica', '@geoffryyork', '@Camfed', '@mailandguardian', '@EswatiniGovern1', '@FinanceSC', \n",
    "         '@PresidencyZA', '@edmnangagwa', '@MinSantedj', '@PaulKagame', '@SouthSudanGov', '@KagutaMuseveni', '@Presidency']\n",
    "africa = ['@a24media', '@oafrica', '@PatrickNgowi', '@TheEIU', '@InvestInAfrica', '@JamalMOsman', '@forbeesta', '@africatechie',\n",
    "          '@ayittey', '@africagathering', '@Aynte', '@rangerdiaries', '@ThinkAfricaFeed', '@AfricaGoodNews', '@MadeItInAfrica'\n",
    "          '@AfricaResearch', '@africaprogress',' @IFCAfrica', '@JendayiFrazer', '@Mo', '@Camfed', '@PaulKagame', '@USEmbalo']"
   ]
  },
  {
   "cell_type": "code",
   "execution_count": 621,
   "metadata": {},
   "outputs": [],
   "source": [
    "# l1 and l2 had been defined earlier\n",
    "influencers = l1\n",
    "leaders = l2"
   ]
  },
  {
   "cell_type": "code",
   "execution_count": 622,
   "metadata": {},
   "outputs": [],
   "source": [
    "def split(my_list):\n",
    "    l = []\n",
    "    i = []\n",
    "    for element in my_list:\n",
    "        if element in influencers:\n",
    "            i.append(element)\n",
    "        elif element in leaders:\n",
    "            l.append(element)\n",
    "            \n",
    "    return l, i"
   ]
  },
  {
   "cell_type": "code",
   "execution_count": 627,
   "metadata": {},
   "outputs": [],
   "source": [
    "blm_leader, blm_inf = split(blm)[0] , split(blm)[1]\n",
    "sa_leader, sa_inf = split(sa)[0] , split(sa)[1]\n",
    "mogadishu_leader, mogadishu_inf = split(mogadishu)[0] , split(mogadishu)[1]\n",
    "nigeria_leader, nigeria_inf = split(nigeria)[0] , split(nigeria)[1]\n",
    "rona_leader, rona_inf = split(rona)[0] , split(rona)[1]\n",
    "somalia_leader, somalia_inf = split(somalia)[0] , split(somalia)[1]\n",
    "kenya_leader, kenya_inf = split(kenya)[0] , split(kenya)[1]\n",
    "covid_leader, covid_inf = split(covid)[0] , split(covid)[1]\n",
    "africa_leader, africa_inf = split(africa)[0] , split(africa)[1]\n",
    "ethiopia_leader, ethiopia_inf = split(ethiopia)[0] , split(ethiopia)[1]"
   ]
  },
  {
   "cell_type": "code",
   "execution_count": 628,
   "metadata": {},
   "outputs": [],
   "source": [
    "# plotting\n",
    "tags_p = ['#Africa', '#COVID19', '#Kenya', '#Somalia', '#coronavirus', '#Nigeria', '#Mogadishu',\n",
    "          '#Ethiopia', '#SouthAfrica', '#BlackLivesMatter']\n",
    "leaders_plot = [len(africa_leader), len(covid_leader), len(kenya_leader), len(somalia_leader),\n",
    "                len(rona_leader),  len(nigeria_leader), len(mogadishu_leader), len(ethiopia_leader),\n",
    "                len(sa_leader), len(blm_leader)]\n",
    "influencers_plot = [len(africa_inf), len(covid_inf), len(kenya_inf), len(somalia_inf),\n",
    "                len(rona_inf),  len(nigeria_inf), len(mogadishu_inf), len(ethiopia_inf),\n",
    "                len(sa_inf), len(blm_inf)]"
   ]
  },
  {
   "cell_type": "code",
   "execution_count": 636,
   "metadata": {},
   "outputs": [
    {
     "data": {
      "text/html": [
       "<div>\n",
       "<style scoped>\n",
       "    .dataframe tbody tr th:only-of-type {\n",
       "        vertical-align: middle;\n",
       "    }\n",
       "\n",
       "    .dataframe tbody tr th {\n",
       "        vertical-align: top;\n",
       "    }\n",
       "\n",
       "    .dataframe thead th {\n",
       "        text-align: right;\n",
       "    }\n",
       "</style>\n",
       "<table border=\"1\" class=\"dataframe\">\n",
       "  <thead>\n",
       "    <tr style=\"text-align: right;\">\n",
       "      <th></th>\n",
       "      <th>tags</th>\n",
       "      <th>leaders_count</th>\n",
       "      <th>influencers_count</th>\n",
       "    </tr>\n",
       "  </thead>\n",
       "  <tbody>\n",
       "    <tr>\n",
       "      <td>0</td>\n",
       "      <td>#Africa</td>\n",
       "      <td>2</td>\n",
       "      <td>16</td>\n",
       "    </tr>\n",
       "    <tr>\n",
       "      <td>1</td>\n",
       "      <td>#COVID19</td>\n",
       "      <td>8</td>\n",
       "      <td>10</td>\n",
       "    </tr>\n",
       "    <tr>\n",
       "      <td>2</td>\n",
       "      <td>#Kenya</td>\n",
       "      <td>0</td>\n",
       "      <td>6</td>\n",
       "    </tr>\n",
       "    <tr>\n",
       "      <td>3</td>\n",
       "      <td>#Somalia</td>\n",
       "      <td>0</td>\n",
       "      <td>4</td>\n",
       "    </tr>\n",
       "    <tr>\n",
       "      <td>4</td>\n",
       "      <td>#coronavirus</td>\n",
       "      <td>1</td>\n",
       "      <td>5</td>\n",
       "    </tr>\n",
       "    <tr>\n",
       "      <td>5</td>\n",
       "      <td>#Nigeria</td>\n",
       "      <td>1</td>\n",
       "      <td>5</td>\n",
       "    </tr>\n",
       "    <tr>\n",
       "      <td>6</td>\n",
       "      <td>#Mogadishu</td>\n",
       "      <td>0</td>\n",
       "      <td>2</td>\n",
       "    </tr>\n",
       "    <tr>\n",
       "      <td>7</td>\n",
       "      <td>#Ethiopia</td>\n",
       "      <td>0</td>\n",
       "      <td>4</td>\n",
       "    </tr>\n",
       "    <tr>\n",
       "      <td>8</td>\n",
       "      <td>#SouthAfrica</td>\n",
       "      <td>0</td>\n",
       "      <td>3</td>\n",
       "    </tr>\n",
       "    <tr>\n",
       "      <td>9</td>\n",
       "      <td>#BlackLivesMatter</td>\n",
       "      <td>0</td>\n",
       "      <td>4</td>\n",
       "    </tr>\n",
       "  </tbody>\n",
       "</table>\n",
       "</div>"
      ],
      "text/plain": [
       "                tags  leaders_count  influencers_count\n",
       "0            #Africa              2                 16\n",
       "1           #COVID19              8                 10\n",
       "2             #Kenya              0                  6\n",
       "3           #Somalia              0                  4\n",
       "4       #coronavirus              1                  5\n",
       "5           #Nigeria              1                  5\n",
       "6         #Mogadishu              0                  2\n",
       "7          #Ethiopia              0                  4\n",
       "8       #SouthAfrica              0                  3\n",
       "9  #BlackLivesMatter              0                  4"
      ]
     },
     "execution_count": 636,
     "metadata": {},
     "output_type": "execute_result"
    }
   ],
   "source": [
    "d = {'tags': tags_p, 'leaders_count': leaders_plot, 'influencers_count': influencers_plot} \n",
    "df = pd.DataFrame(d)\n",
    "df"
   ]
  },
  {
   "cell_type": "code",
   "execution_count": 651,
   "metadata": {},
   "outputs": [
    {
     "data": {
      "image/png": "[encoded data removed]",
      "text/plain": [
       "<Figure size 936x792 with 1 Axes>"
      ]
     },
     "metadata": {},
     "output_type": "display_data"
    }
   ],
   "source": [
    "fig, ax = plt.subplots(figsize=(13,11))\n",
    "p1 = plt.bar(df['tags'], df['leaders_count'])\n",
    "p2 = plt.bar(df['tags'], df['influencers_count'], bottom=df['leaders_count'])\n",
    "plt.title('A stacked bar plot to show the fraction of influencers and top government officials by hashtag')\n",
    "plt.xticks(rotation=45)\n",
    "plt.xlabel('hashtags')\n",
    "plt.ylabel('count')\n",
    "plt.legend(('leaders','influencers'))\n",
    "# sns.set_style('whitegrid')\n",
    "plt.style.use('ggplot')"
   ]
  },
  {
   "cell_type": "markdown",
   "metadata": {},
   "source": [
    "## 4. Report specifics\n",
    "Selecting guys that either appear in all the 3 grouping categories used or are part of top 5 in the categories. Then fetching their top ten hashtags and descriptions.\n",
    "Most of the work is going to be repetition of what's already been done, only pinpointed to a specific group."
   ]
  },
  {
   "cell_type": "markdown",
   "metadata": {},
   "source": [
    "### Popularity, relevance, reach"
   ]
  },
  {
   "cell_type": "code",
   "execution_count": 707,
   "metadata": {},
   "outputs": [],
   "source": [
    "rel = merged.head(20).sort_values(by = 'relevance_score', ascending  = False)['screen_name'].to_list()\n",
    "ifn = most_influential.head(20)['screen_name'].to_list()\n",
    "pop = popular.head(20)['screen_name'].to_list()\n",
    "mega_list = rel + ifn + pop\n",
    "\n",
    "top_5 = rel[:5] + ifn[:5] + pop[:5]\n",
    "filtered = []\n",
    "for name in mega_list:\n",
    "    if mega_list.count(name) >= 2:\n",
    "        filtered.append(name)"
   ]
  },
  {
   "cell_type": "code",
   "execution_count": 915,
   "metadata": {},
   "outputs": [
    {
     "data": {
      "text/html": [
       "<div>\n",
       "<style scoped>\n",
       "    .dataframe tbody tr th:only-of-type {\n",
       "        vertical-align: middle;\n",
       "    }\n",
       "\n",
       "    .dataframe tbody tr th {\n",
       "        vertical-align: top;\n",
       "    }\n",
       "\n",
       "    .dataframe thead th {\n",
       "        text-align: right;\n",
       "    }\n",
       "</style>\n",
       "<table border=\"1\" class=\"dataframe\">\n",
       "  <thead>\n",
       "    <tr style=\"text-align: right;\">\n",
       "      <th></th>\n",
       "      <th>names</th>\n",
       "      <th>reach_score</th>\n",
       "      <th>popularity_score</th>\n",
       "      <th>relevance_score</th>\n",
       "    </tr>\n",
       "  </thead>\n",
       "  <tbody>\n",
       "    <tr>\n",
       "      <td>0</td>\n",
       "      <td>gettleman</td>\n",
       "      <td>25664</td>\n",
       "      <td>12638</td>\n",
       "      <td>4210.0</td>\n",
       "    </tr>\n",
       "    <tr>\n",
       "      <td>1</td>\n",
       "      <td>a24media</td>\n",
       "      <td>28234</td>\n",
       "      <td>797</td>\n",
       "      <td>300.0</td>\n",
       "    </tr>\n",
       "    <tr>\n",
       "      <td>2</td>\n",
       "      <td>AndiMakinana</td>\n",
       "      <td>98335</td>\n",
       "      <td>108017</td>\n",
       "      <td>34234.0</td>\n",
       "    </tr>\n",
       "    <tr>\n",
       "      <td>3</td>\n",
       "      <td>AfricaCheck</td>\n",
       "      <td>63436</td>\n",
       "      <td>14066</td>\n",
       "      <td>7056.0</td>\n",
       "    </tr>\n",
       "    <tr>\n",
       "      <td>4</td>\n",
       "      <td>JamesCopnall</td>\n",
       "      <td>16914</td>\n",
       "      <td>1069</td>\n",
       "      <td>393.0</td>\n",
       "    </tr>\n",
       "  </tbody>\n",
       "</table>\n",
       "</div>"
      ],
      "text/plain": [
       "          names  reach_score  popularity_score  relevance_score\n",
       "0     gettleman        25664             12638           4210.0\n",
       "1      a24media        28234               797            300.0\n",
       "2  AndiMakinana        98335            108017          34234.0\n",
       "3   AfricaCheck        63436             14066           7056.0\n",
       "4  JamesCopnall        16914              1069            393.0"
      ]
     },
     "execution_count": 915,
     "metadata": {},
     "output_type": "execute_result"
    }
   ],
   "source": [
    "#check out correlation from the 3 scores\n",
    "'''make a df of the 3 scores, then check how the 3 correlate using the\n",
    "spearman rank correlation coefficient '''\n",
    "\n",
    "the_3_scores = pd.DataFrame(columns = ['names', 'reach_score', 'popularity_score', 'relevance_score'])\n",
    "the_3_scores['names'] = merged['screen_name']\n",
    "the_3_scores['reach_score'] = merged['influence_score']\n",
    "the_3_scores['popularity_score'] = merged['popularity']\n",
    "the_3_scores['relevance_score'] = merged['relevance_score']\n",
    "the_3_scores.head()"
   ]
  },
  {
   "cell_type": "code",
   "execution_count": 926,
   "metadata": {},
   "outputs": [
    {
     "data": {
      "text/plain": [
       "<matplotlib.axes._subplots.AxesSubplot at 0x7f7a0cddba90>"
      ]
     },
     "execution_count": 926,
     "metadata": {},
     "output_type": "execute_result"
    },
    {
     "data": {
      "image/png": "[encoded data removed]",
      "text/plain": [
       "<Figure size 576x396 with 2 Axes>"
      ]
     },
     "metadata": {},
     "output_type": "display_data"
    }
   ],
   "source": [
    "import numpy as np\n",
    "correlation = the_3_scores.corr(method = 'spearman')\n",
    "mask = np.triu(np.ones_like(correlation, dtype=np.bool))\n",
    "sns.heatmap(correlation, vmin=0, vmax=1, square=True,mask = mask,\n",
    "                           annot=True, annot_kws={\"size\": 10}, cmap=\"BuPu\")"
   ]
  },
  {
   "cell_type": "code",
   "execution_count": 940,
   "metadata": {},
   "outputs": [
    {
     "data": {
      "text/plain": [
       "Text(0.5, 1.0, 'A scatter plot of relevance against popularity scores')"
      ]
     },
     "execution_count": 940,
     "metadata": {},
     "output_type": "execute_result"
    },
    {
     "data": {
      "image/png": "[encoded data removed]",
      "text/plain": [
       "<Figure size 576x396 with 1 Axes>"
      ]
     },
     "metadata": {},
     "output_type": "display_data"
    }
   ],
   "source": [
    "#line plots to view the relationship graphically\n",
    "sns.scatterplot(x = the_3_scores[\"popularity_score\"] ,y = the_3_scores['relevance_score'], color=\"green\")\n",
    "plt.title('A scatter plot of relevance against popularity scores')"
   ]
  },
  {
   "cell_type": "code",
   "execution_count": 941,
   "metadata": {},
   "outputs": [
    {
     "data": {
      "text/plain": [
       "Text(0.5, 1.0, 'A scatter plot of relevance against reach scores')"
      ]
     },
     "execution_count": 941,
     "metadata": {},
     "output_type": "execute_result"
    },
    {
     "data": {
      "image/png": "[encoded data removed]",
      "text/plain": [
       "<Figure size 576x396 with 1 Axes>"
      ]
     },
     "metadata": {},
     "output_type": "display_data"
    }
   ],
   "source": [
    "sns.scatterplot(x = the_3_scores[\"reach_score\"] ,y = the_3_scores['relevance_score'], color=\"red\")\n",
    "plt.title('A scatter plot of relevance against reach scores')"
   ]
  },
  {
   "cell_type": "code",
   "execution_count": 942,
   "metadata": {},
   "outputs": [
    {
     "data": {
      "text/plain": [
       "Text(0.5, 1.0, 'A scatter plot of reach against popularity scores')"
      ]
     },
     "execution_count": 942,
     "metadata": {},
     "output_type": "execute_result"
    },
    {
     "data": {
      "image/png": "[encoded data removed]",
      "text/plain": [
       "<Figure size 576x396 with 1 Axes>"
      ]
     },
     "metadata": {},
     "output_type": "display_data"
    }
   ],
   "source": [
    "sns.scatterplot(x = the_3_scores[\"popularity_score\"] ,y = the_3_scores['reach_score'], color=\"olive\")\n",
    "plt.title('A scatter plot of reach against popularity scores')"
   ]
  },
  {
   "cell_type": "markdown",
   "metadata": {},
   "source": [
    "#### The correlations are high, so I'll use total scores to  pick the top 20 out of the 60."
   ]
  },
  {
   "cell_type": "code",
   "execution_count": 945,
   "metadata": {},
   "outputs": [
    {
     "data": {
      "text/html": [
       "<div>\n",
       "<style scoped>\n",
       "    .dataframe tbody tr th:only-of-type {\n",
       "        vertical-align: middle;\n",
       "    }\n",
       "\n",
       "    .dataframe tbody tr th {\n",
       "        vertical-align: top;\n",
       "    }\n",
       "\n",
       "    .dataframe thead th {\n",
       "        text-align: right;\n",
       "    }\n",
       "</style>\n",
       "<table border=\"1\" class=\"dataframe\">\n",
       "  <thead>\n",
       "    <tr style=\"text-align: right;\">\n",
       "      <th></th>\n",
       "      <th>names</th>\n",
       "      <th>reach_score</th>\n",
       "      <th>popularity_score</th>\n",
       "      <th>relevance_score</th>\n",
       "      <th>totals</th>\n",
       "    </tr>\n",
       "  </thead>\n",
       "  <tbody>\n",
       "    <tr>\n",
       "      <td>77</td>\n",
       "      <td>Trevornoah</td>\n",
       "      <td>10798577</td>\n",
       "      <td>1580223</td>\n",
       "      <td>269364.0</td>\n",
       "      <td>12648164.0</td>\n",
       "    </tr>\n",
       "    <tr>\n",
       "      <td>74</td>\n",
       "      <td>Julius_S_Malema</td>\n",
       "      <td>3122590</td>\n",
       "      <td>1454213</td>\n",
       "      <td>254705.0</td>\n",
       "      <td>4831508.0</td>\n",
       "    </tr>\n",
       "    <tr>\n",
       "      <td>110</td>\n",
       "      <td>MBuhari</td>\n",
       "      <td>3265962</td>\n",
       "      <td>1278627</td>\n",
       "      <td>278145.0</td>\n",
       "      <td>4822734.0</td>\n",
       "    </tr>\n",
       "    <tr>\n",
       "      <td>75</td>\n",
       "      <td>News24</td>\n",
       "      <td>3572382</td>\n",
       "      <td>279144</td>\n",
       "      <td>81459.0</td>\n",
       "      <td>3932985.0</td>\n",
       "    </tr>\n",
       "    <tr>\n",
       "      <td>93</td>\n",
       "      <td>KagutaMuseveni</td>\n",
       "      <td>1807388</td>\n",
       "      <td>808166</td>\n",
       "      <td>127443.0</td>\n",
       "      <td>2742997.0</td>\n",
       "    </tr>\n",
       "  </tbody>\n",
       "</table>\n",
       "</div>"
      ],
      "text/plain": [
       "               names  reach_score  popularity_score  relevance_score  \\\n",
       "77        Trevornoah     10798577           1580223         269364.0   \n",
       "74   Julius_S_Malema      3122590           1454213         254705.0   \n",
       "110          MBuhari      3265962           1278627         278145.0   \n",
       "75            News24      3572382            279144          81459.0   \n",
       "93    KagutaMuseveni      1807388            808166         127443.0   \n",
       "\n",
       "         totals  \n",
       "77   12648164.0  \n",
       "74    4831508.0  \n",
       "110   4822734.0  \n",
       "75    3932985.0  \n",
       "93    2742997.0  "
      ]
     },
     "execution_count": 945,
     "metadata": {},
     "output_type": "execute_result"
    }
   ],
   "source": [
    "the_3_scores['totals'] = the_3_scores['relevance_score'] + the_3_scores['popularity_score'] + the_3_scores['reach_score']\n",
    "the_3_scores = the_3_scores.sort_values(by = 'totals', ascending = False)\n",
    "the_3_scores.head()"
   ]
  },
  {
   "cell_type": "code",
   "execution_count": 948,
   "metadata": {},
   "outputs": [
    {
     "data": {
      "text/plain": [
       "['Trevornoah',\n",
       " 'Julius_S_Malema',\n",
       " 'MBuhari',\n",
       " 'News24',\n",
       " 'KagutaMuseveni',\n",
       " 'MbuyiseniNdlozi',\n",
       " 'PaulKagame',\n",
       " 'NAkufoAddo',\n",
       " 'PresidencyZA',\n",
       " 'euphonik',\n",
       " 'GarethCliff',\n",
       " 'Macky_Sall',\n",
       " 'helenzille',\n",
       " 'MTVBaseAfrica',\n",
       " 'OfficialCSA',\n",
       " 'StateHouseKenya',\n",
       " '5FM',\n",
       " 'loyisogola',\n",
       " 'mailandguardian',\n",
       " 'AOuattara_PRCI']"
      ]
     },
     "execution_count": 948,
     "metadata": {},
     "output_type": "execute_result"
    }
   ],
   "source": [
    "final_list = the_3_scores.head(20)['names'].to_list()\n",
    "final_list"
   ]
  },
  {
   "cell_type": "markdown",
   "metadata": {},
   "source": [
    "### Hashtags"
   ]
  },
  {
   "cell_type": "code",
   "execution_count": 949,
   "metadata": {},
   "outputs": [],
   "source": [
    "tags_list = ts['hashtags'].to_list()\n",
    "n_list = ts['index'].to_list()\n",
    "\n",
    "tags_count = pd.DataFrame(columns = ['top_ten_hashtags'])\n",
    "def individual_tag_count(l, name):\n",
    "    counts = Counter(l)\n",
    "    top = counts.most_common(10)\n",
    "    the_top_tags = [t[0] for t in top]\n",
    "    tags_count.loc[name] = [the_top_tags]\n",
    "    \n",
    "    return tags_count"
   ]
  },
  {
   "cell_type": "code",
   "execution_count": 950,
   "metadata": {},
   "outputs": [],
   "source": [
    "for l, name in zip(tags_list, n_list):\n",
    "    selected_tags = individual_tag_count(l, name)"
   ]
  },
  {
   "cell_type": "code",
   "execution_count": 951,
   "metadata": {},
   "outputs": [
    {
     "data": {
      "text/html": [
       "<div>\n",
       "<style scoped>\n",
       "    .dataframe tbody tr th:only-of-type {\n",
       "        vertical-align: middle;\n",
       "    }\n",
       "\n",
       "    .dataframe tbody tr th {\n",
       "        vertical-align: top;\n",
       "    }\n",
       "\n",
       "    .dataframe thead th {\n",
       "        text-align: right;\n",
       "    }\n",
       "</style>\n",
       "<table border=\"1\" class=\"dataframe\">\n",
       "  <thead>\n",
       "    <tr style=\"text-align: right;\">\n",
       "      <th></th>\n",
       "      <th>index</th>\n",
       "      <th>top_ten_hashtags</th>\n",
       "    </tr>\n",
       "  </thead>\n",
       "  <tbody>\n",
       "    <tr>\n",
       "      <td>0</td>\n",
       "      <td>@gettleman</td>\n",
       "      <td>[#Rohingya, #India, #Kathua, #RohingyaCrisis, ...</td>\n",
       "    </tr>\n",
       "    <tr>\n",
       "      <td>1</td>\n",
       "      <td>@a24media</td>\n",
       "      <td>[#Africa', #Africa, #AfricaJournal, #Kenya, #T...</td>\n",
       "    </tr>\n",
       "    <tr>\n",
       "      <td>2</td>\n",
       "      <td>@AfricaCheck</td>\n",
       "      <td>[#SouthAfrica, #coronavirus, #Nigeria, #SouthA...</td>\n",
       "    </tr>\n",
       "    <tr>\n",
       "      <td>3</td>\n",
       "      <td>@JamesCopnall</td>\n",
       "      <td>[#Sudan, #SouthSudan, #Newsday, #SudanUprising...</td>\n",
       "    </tr>\n",
       "    <tr>\n",
       "      <td>4</td>\n",
       "      <td>@oafrica</td>\n",
       "      <td>[#Africa, #1stReads', #Rwanda, #tech, #telegeo...</td>\n",
       "    </tr>\n",
       "  </tbody>\n",
       "</table>\n",
       "</div>"
      ],
      "text/plain": [
       "           index                                   top_ten_hashtags\n",
       "0     @gettleman  [#Rohingya, #India, #Kathua, #RohingyaCrisis, ...\n",
       "1      @a24media  [#Africa', #Africa, #AfricaJournal, #Kenya, #T...\n",
       "2   @AfricaCheck  [#SouthAfrica, #coronavirus, #Nigeria, #SouthA...\n",
       "3  @JamesCopnall  [#Sudan, #SouthSudan, #Newsday, #SudanUprising...\n",
       "4       @oafrica  [#Africa, #1stReads', #Rwanda, #tech, #telegeo..."
      ]
     },
     "execution_count": 951,
     "metadata": {},
     "output_type": "execute_result"
    }
   ],
   "source": [
    "selected_tags = selected_tags.reset_index()\n",
    "selected_tags.head()"
   ]
  },
  {
   "cell_type": "code",
   "execution_count": 974,
   "metadata": {},
   "outputs": [
    {
     "data": {
      "text/html": [
       "<div>\n",
       "<style scoped>\n",
       "    .dataframe tbody tr th:only-of-type {\n",
       "        vertical-align: middle;\n",
       "    }\n",
       "\n",
       "    .dataframe tbody tr th {\n",
       "        vertical-align: top;\n",
       "    }\n",
       "\n",
       "    .dataframe thead th {\n",
       "        text-align: right;\n",
       "    }\n",
       "</style>\n",
       "<table border=\"1\" class=\"dataframe\">\n",
       "  <thead>\n",
       "    <tr style=\"text-align: right;\">\n",
       "      <th></th>\n",
       "      <th>names</th>\n",
       "    </tr>\n",
       "  </thead>\n",
       "  <tbody>\n",
       "    <tr>\n",
       "      <td>0</td>\n",
       "      <td>@Trevornoah</td>\n",
       "    </tr>\n",
       "    <tr>\n",
       "      <td>1</td>\n",
       "      <td>@Julius_S_Malema</td>\n",
       "    </tr>\n",
       "    <tr>\n",
       "      <td>2</td>\n",
       "      <td>@News24</td>\n",
       "    </tr>\n",
       "    <tr>\n",
       "      <td>3</td>\n",
       "      <td>@MbuyiseniNdlozi</td>\n",
       "    </tr>\n",
       "    <tr>\n",
       "      <td>4</td>\n",
       "      <td>@euphonik</td>\n",
       "    </tr>\n",
       "  </tbody>\n",
       "</table>\n",
       "</div>"
      ],
      "text/plain": [
       "              names\n",
       "0       @Trevornoah\n",
       "1  @Julius_S_Malema\n",
       "2           @News24\n",
       "3  @MbuyiseniNdlozi\n",
       "4         @euphonik"
      ]
     },
     "execution_count": 974,
     "metadata": {},
     "output_type": "execute_result"
    }
   ],
   "source": [
    "selected_list = final_list\n",
    "\n",
    "def prepend(list, str): \n",
    "    str += '{0}'\n",
    "    l = [str.format(i) for i in list] \n",
    "    \n",
    "    return l \n",
    "\n",
    "\n",
    "my_selected_list = prepend(selected_list, '@')\n",
    "tags_selected_df = pd.DataFrame(my_selected_list, columns= ['names'])\n",
    "tags_selected_df.head()"
   ]
  },
  {
   "cell_type": "code",
   "execution_count": 956,
   "metadata": {},
   "outputs": [
    {
     "data": {
      "text/html": [
       "<div>\n",
       "<style scoped>\n",
       "    .dataframe tbody tr th:only-of-type {\n",
       "        vertical-align: middle;\n",
       "    }\n",
       "\n",
       "    .dataframe tbody tr th {\n",
       "        vertical-align: top;\n",
       "    }\n",
       "\n",
       "    .dataframe thead th {\n",
       "        text-align: right;\n",
       "    }\n",
       "</style>\n",
       "<table border=\"1\" class=\"dataframe\">\n",
       "  <thead>\n",
       "    <tr style=\"text-align: right;\">\n",
       "      <th></th>\n",
       "      <th>top_ten_hashtags</th>\n",
       "      <th>names</th>\n",
       "    </tr>\n",
       "  </thead>\n",
       "  <tbody>\n",
       "    <tr>\n",
       "      <td>0</td>\n",
       "      <td>[#COVID19, #BREAKING, #coronavirus, #BlackLive...</td>\n",
       "      <td>@MbuyiseniNdlozi</td>\n",
       "    </tr>\n",
       "    <tr>\n",
       "      <td>1</td>\n",
       "      <td>[#euNITE947, #947MixAt6, #FreshOn947, #euNITE9...</td>\n",
       "      <td>@euphonik</td>\n",
       "    </tr>\n",
       "    <tr>\n",
       "      <td>2</td>\n",
       "      <td>[#ProteasWomen, #SAvENG, #ProteaFire, #SAu19s,...</td>\n",
       "      <td>@OfficialCSA</td>\n",
       "    </tr>\n",
       "    <tr>\n",
       "      <td>3</td>\n",
       "      <td>[#GautengCares, #GautengCovid19, #BeProActive,...</td>\n",
       "      <td>@loyisogola</td>\n",
       "    </tr>\n",
       "    <tr>\n",
       "      <td>4</td>\n",
       "      <td>[#5FMTop40, #GoodeMorning, #ForbesAndFix, #InT...</td>\n",
       "      <td>@5FM</td>\n",
       "    </tr>\n",
       "  </tbody>\n",
       "</table>\n",
       "</div>"
      ],
      "text/plain": [
       "                                    top_ten_hashtags             names\n",
       "0  [#COVID19, #BREAKING, #coronavirus, #BlackLive...  @MbuyiseniNdlozi\n",
       "1  [#euNITE947, #947MixAt6, #FreshOn947, #euNITE9...         @euphonik\n",
       "2  [#ProteasWomen, #SAvENG, #ProteaFire, #SAu19s,...      @OfficialCSA\n",
       "3  [#GautengCares, #GautengCovid19, #BeProActive,...       @loyisogola\n",
       "4  [#5FMTop40, #GoodeMorning, #ForbesAndFix, #InT...              @5FM"
      ]
     },
     "execution_count": 956,
     "metadata": {},
     "output_type": "execute_result"
    }
   ],
   "source": [
    "merged_tags = pd.merge(left=selected_tags, right=tags_selected_df, left_on='index', right_on='names', how = 'inner')\n",
    "merged_tags = merged_tags.drop(['index'], axis = 1)\n",
    "merged_tags.head()"
   ]
  },
  {
   "cell_type": "code",
   "execution_count": 957,
   "metadata": {},
   "outputs": [
    {
     "data": {
      "text/plain": [
       "['#COVID19',\n",
       " '#coronavirus',\n",
       " '#BlackLivesMatter',\n",
       " '#Covid_19',\n",
       " '#Covid19',\n",
       " '#SupplementaryBudget',\n",
       " '#BREAKING',\n",
       " '#EFFBLMProtest',\n",
       " '#EFFBookClub',\n",
       " '#COVID19SouthAfrica',\n",
       " '#COVID__19',\n",
       " '#euNITE947',\n",
       " '#947MixAt6',\n",
       " '#FreshOn947',\n",
       " \"#euNITE947'\",\n",
       " '#euNITE947.',\n",
       " '#euNITE947!',\n",
       " '#947MixAt6.',\n",
       " '#euNITE947,',\n",
       " '#euNITE947\\\\nStream',\n",
       " '#947mixat6',\n",
       " '#ProteasWomen',\n",
       " '#SAvENG',\n",
       " '#ProteaFire',\n",
       " '#SAu19s',\n",
       " '#AlwaysRising',\n",
       " '#U19CWC',\n",
       " '#FutureStars',\n",
       " '#T20WorldCup',\n",
       " '#WeAreMore']"
      ]
     },
     "execution_count": 957,
     "metadata": {},
     "output_type": "execute_result"
    }
   ],
   "source": [
    "l = merged_tags['top_ten_hashtags'].to_list()\n",
    "flattened = [y for x in l for y in x]\n",
    "counts = Counter(flattened)\n",
    "top = counts.most_common(30)\n",
    "top_30_overall = [t[0] for t in top]\n",
    "top_30_overall"
   ]
  },
  {
   "cell_type": "code",
   "execution_count": 962,
   "metadata": {},
   "outputs": [
    {
     "data": {
      "text/plain": [
       "Text(0, 0.5, 'count')"
      ]
     },
     "execution_count": 962,
     "metadata": {},
     "output_type": "execute_result"
    },
    {
     "data": {
      "image/png": "[encoded data removed]",
      "text/plain": [
       "<Figure size 720x648 with 1 Axes>"
      ]
     },
     "metadata": {},
     "output_type": "display_data"
    }
   ],
   "source": [
    "x = [t[0] for t in top][0:10]\n",
    "y = [t[1] for t in top][0:10]\n",
    "fig, ax = plt.subplots(figsize=(10,9))\n",
    "sns.barplot(x, y, ax = ax)\n",
    "plt.title('Top ten hashtags used among the 20')\n",
    "plt.xticks(rotation=45)\n",
    "plt.xlabel('hashtags')\n",
    "plt.ylabel('count')\n",
    "# sns.set_style('darkgrid')\n",
    "# plt.style.use('seaborn-pastel')"
   ]
  },
  {
   "cell_type": "code",
   "execution_count": 959,
   "metadata": {},
   "outputs": [
    {
     "data": {
      "text/plain": [
       "Text(0, 0.5, 'count')"
      ]
     },
     "execution_count": 959,
     "metadata": {},
     "output_type": "execute_result"
    },
    {
     "data": {
      "image/png": "[encoded data removed]",
      "text/plain": [
       "<Figure size 720x648 with 1 Axes>"
      ]
     },
     "metadata": {},
     "output_type": "display_data"
    }
   ],
   "source": [
    "x = [t[0] for t in top][11:20]\n",
    "y = [t[1] for t in top][11:20]\n",
    "fig, ax = plt.subplots(figsize=(10,9))\n",
    "sns.barplot(x, y, ax = ax)\n",
    "plt.title('Next 10hashtags used among the nineteen')\n",
    "plt.xticks(rotation=45)\n",
    "plt.xlabel('hashtags')\n",
    "plt.ylabel('count')"
   ]
  },
  {
   "cell_type": "code",
   "execution_count": 960,
   "metadata": {},
   "outputs": [
    {
     "data": {
      "text/plain": [
       "Text(0, 0.5, 'count')"
      ]
     },
     "execution_count": 960,
     "metadata": {},
     "output_type": "execute_result"
    },
    {
     "data": {
      "image/png": "[encoded data removed]",
      "text/plain": [
       "<Figure size 720x648 with 1 Axes>"
      ]
     },
     "metadata": {},
     "output_type": "display_data"
    }
   ],
   "source": [
    "x = [t[0] for t in top][20:-1]\n",
    "y = [t[1] for t in top][20:-1]\n",
    "fig, ax = plt.subplots(figsize=(10,9))\n",
    "sns.barplot(x, y, ax = ax)\n",
    "plt.title('Next 10hashtags used among the nineteen')\n",
    "plt.xticks(rotation=45)\n",
    "plt.xlabel('hashtags')\n",
    "plt.ylabel('count')"
   ]
  },
  {
   "cell_type": "markdown",
   "metadata": {},
   "source": [
    "### Description"
   ]
  },
  {
   "cell_type": "code",
   "execution_count": 987,
   "metadata": {},
   "outputs": [
    {
     "data": {
      "text/plain": [
       "(12, 1)"
      ]
     },
     "execution_count": 987,
     "metadata": {},
     "output_type": "execute_result"
    }
   ],
   "source": [
    "selected_list = final_list\n",
    "\n",
    "# def prepend(list, str): \n",
    "#     str += '{0}'\n",
    "#     l = [str.format(i) for i in list if not i.startswith(str)] \n",
    "\n",
    "#     return l \n",
    "# my_list = prepend(selected_list, '@')\n",
    "the_19_df = pd.DataFrame(selected_list, columns= ['names'])\n",
    "the_19_df.shape"
   ]
  },
  {
   "cell_type": "code",
   "execution_count": 988,
   "metadata": {},
   "outputs": [
    {
     "data": {
      "text/html": [
       "<div>\n",
       "<style scoped>\n",
       "    .dataframe tbody tr th:only-of-type {\n",
       "        vertical-align: middle;\n",
       "    }\n",
       "\n",
       "    .dataframe tbody tr th {\n",
       "        vertical-align: top;\n",
       "    }\n",
       "\n",
       "    .dataframe thead th {\n",
       "        text-align: right;\n",
       "    }\n",
       "</style>\n",
       "<table border=\"1\" class=\"dataframe\">\n",
       "  <thead>\n",
       "    <tr style=\"text-align: right;\">\n",
       "      <th></th>\n",
       "      <th>Unnamed: 0</th>\n",
       "      <th>screen_name</th>\n",
       "      <th>description</th>\n",
       "      <th>number_of_tweets</th>\n",
       "      <th>following</th>\n",
       "      <th>followers</th>\n",
       "      <th>likes</th>\n",
       "      <th>retweets</th>\n",
       "      <th>hashtags</th>\n",
       "      <th>mentions</th>\n",
       "    </tr>\n",
       "  </thead>\n",
       "  <tbody>\n",
       "    <tr>\n",
       "      <td>0</td>\n",
       "      <td>@gettleman</td>\n",
       "      <td>gettleman</td>\n",
       "      <td>South Asia bureau chief for the New York Times...</td>\n",
       "      <td>3766</td>\n",
       "      <td>37</td>\n",
       "      <td>25701</td>\n",
       "      <td>9267</td>\n",
       "      <td>3371</td>\n",
       "      <td>NaN</td>\n",
       "      <td>NaN</td>\n",
       "    </tr>\n",
       "    <tr>\n",
       "      <td>1</td>\n",
       "      <td>@a24media</td>\n",
       "      <td>a24media</td>\n",
       "      <td>Africa 24 produces compelling content that mak...</td>\n",
       "      <td>16852</td>\n",
       "      <td>3060</td>\n",
       "      <td>31294</td>\n",
       "      <td>603</td>\n",
       "      <td>194</td>\n",
       "      <td>NaN</td>\n",
       "      <td>NaN</td>\n",
       "    </tr>\n",
       "    <tr>\n",
       "      <td>2</td>\n",
       "      <td>@andiMakinana</td>\n",
       "      <td>AndiMakinana</td>\n",
       "      <td>In pursuit of scoops. I do not write headlines...</td>\n",
       "      <td>142183</td>\n",
       "      <td>2837</td>\n",
       "      <td>101172</td>\n",
       "      <td>73785</td>\n",
       "      <td>34232</td>\n",
       "      <td>NaN</td>\n",
       "      <td>NaN</td>\n",
       "    </tr>\n",
       "    <tr>\n",
       "      <td>3</td>\n",
       "      <td>@AfricaCheck</td>\n",
       "      <td>AfricaCheck</td>\n",
       "      <td>Africa's first independent fact-checking websi...</td>\n",
       "      <td>27294</td>\n",
       "      <td>4593</td>\n",
       "      <td>68029</td>\n",
       "      <td>7209</td>\n",
       "      <td>6857</td>\n",
       "      <td>NaN</td>\n",
       "      <td>NaN</td>\n",
       "    </tr>\n",
       "    <tr>\n",
       "      <td>4</td>\n",
       "      <td>@JamesCopnall</td>\n",
       "      <td>JamesCopnall</td>\n",
       "      <td>BBC reporter + presenter. Author A Poisonous T...</td>\n",
       "      <td>19434</td>\n",
       "      <td>5046</td>\n",
       "      <td>21960</td>\n",
       "      <td>908</td>\n",
       "      <td>161</td>\n",
       "      <td>NaN</td>\n",
       "      <td>NaN</td>\n",
       "    </tr>\n",
       "  </tbody>\n",
       "</table>\n",
       "</div>"
      ],
      "text/plain": [
       "      Unnamed: 0   screen_name  \\\n",
       "0     @gettleman     gettleman   \n",
       "1      @a24media      a24media   \n",
       "2  @andiMakinana  AndiMakinana   \n",
       "3   @AfricaCheck   AfricaCheck   \n",
       "4  @JamesCopnall  JamesCopnall   \n",
       "\n",
       "                                         description  number_of_tweets  \\\n",
       "0  South Asia bureau chief for the New York Times...              3766   \n",
       "1  Africa 24 produces compelling content that mak...             16852   \n",
       "2  In pursuit of scoops. I do not write headlines...            142183   \n",
       "3  Africa's first independent fact-checking websi...             27294   \n",
       "4  BBC reporter + presenter. Author A Poisonous T...             19434   \n",
       "\n",
       "   following  followers  likes  retweets  hashtags  mentions  \n",
       "0         37      25701   9267      3371       NaN       NaN  \n",
       "1       3060      31294    603       194       NaN       NaN  \n",
       "2       2837     101172  73785     34232       NaN       NaN  \n",
       "3       4593      68029   7209      6857       NaN       NaN  \n",
       "4       5046      21960    908       161       NaN       NaN  "
      ]
     },
     "execution_count": 988,
     "metadata": {},
     "output_type": "execute_result"
    }
   ],
   "source": [
    "df = pd.read_csv('/home/ada/10academy/training /week1/monday/might need csvs/twitter_data.csv')\n",
    "df.head()"
   ]
  },
  {
   "cell_type": "code",
   "execution_count": 989,
   "metadata": {},
   "outputs": [
    {
     "data": {
      "text/html": [
       "<div>\n",
       "<style scoped>\n",
       "    .dataframe tbody tr th:only-of-type {\n",
       "        vertical-align: middle;\n",
       "    }\n",
       "\n",
       "    .dataframe tbody tr th {\n",
       "        vertical-align: top;\n",
       "    }\n",
       "\n",
       "    .dataframe thead th {\n",
       "        text-align: right;\n",
       "    }\n",
       "</style>\n",
       "<table border=\"1\" class=\"dataframe\">\n",
       "  <thead>\n",
       "    <tr style=\"text-align: right;\">\n",
       "      <th></th>\n",
       "      <th>screen_name</th>\n",
       "      <th>description</th>\n",
       "    </tr>\n",
       "  </thead>\n",
       "  <tbody>\n",
       "    <tr>\n",
       "      <td>0</td>\n",
       "      <td>MbuyiseniNdlozi</td>\n",
       "      <td>EFF Commissar &amp; Member of Parliament - @EFFSou...</td>\n",
       "    </tr>\n",
       "    <tr>\n",
       "      <td>1</td>\n",
       "      <td>euphonik</td>\n",
       "      <td>LIFE | MUSIC | PROPERTY | BRANDS | CULTURE Con...</td>\n",
       "    </tr>\n",
       "    <tr>\n",
       "      <td>2</td>\n",
       "      <td>OfficialCSA</td>\n",
       "      <td>The official Cricket South Africa Twitter prof...</td>\n",
       "    </tr>\n",
       "    <tr>\n",
       "      <td>3</td>\n",
       "      <td>MTVBaseAfrica</td>\n",
       "      <td>Uniting Africa through music &amp; taking African ...</td>\n",
       "    </tr>\n",
       "    <tr>\n",
       "      <td>4</td>\n",
       "      <td>loyisogola</td>\n",
       "      <td>2 time Emmy nominated stand up comedian from S...</td>\n",
       "    </tr>\n",
       "  </tbody>\n",
       "</table>\n",
       "</div>"
      ],
      "text/plain": [
       "       screen_name                                        description\n",
       "0  MbuyiseniNdlozi  EFF Commissar & Member of Parliament - @EFFSou...\n",
       "1         euphonik  LIFE | MUSIC | PROPERTY | BRANDS | CULTURE Con...\n",
       "2      OfficialCSA  The official Cricket South Africa Twitter prof...\n",
       "3    MTVBaseAfrica  Uniting Africa through music & taking African ...\n",
       "4       loyisogola  2 time Emmy nominated stand up comedian from S..."
      ]
     },
     "execution_count": 989,
     "metadata": {},
     "output_type": "execute_result"
    }
   ],
   "source": [
    "description_df =pd.merge(left = df, right = the_19_df, left_on = 'screen_name', right_on = 'names', how = 'inner')\n",
    "description_df = description_df.drop_duplicates(subset=['screen_name'], keep=False)\n",
    "description_df = description_df.drop(['Unnamed: 0', 'number_of_tweets', 'following', 'followers', 'likes', 'retweets', 'hashtags', 'mentions', 'names'], axis = 1)\n",
    "description_df.head()"
   ]
  },
  {
   "cell_type": "markdown",
   "metadata": {},
   "source": [
    "#### Removing the presidents from the list."
   ]
  },
  {
   "cell_type": "code",
   "execution_count": 991,
   "metadata": {},
   "outputs": [],
   "source": [
    "desc_list = description_df['description'].to_list()\n",
    "screen_list = description_df['screen_name'].to_list()\n",
    "\n",
    "#make list of lists\n",
    "def extractDigits(lst): \n",
    "    return [[el] for el in lst] \n",
    "\n",
    "d_list = extractDigits(desc_list)\n",
    "s_list = extractDigits(screen_list)\n",
    "\n",
    "# take care of the presidents, can't run a campaign with them, they're busy serving the nation or playing house.\n",
    "p = []\n",
    "for name, l in zip(s_list, d_list):\n",
    "    if any(\"Président\" in str(s) for s in l):\n",
    "#     bummers = ['Président' or 'president' or 'President' or 'Presidency' or 'presidency' or 'président']\n",
    "        p.append(name)\n",
    "    elif any(\"president\" in str(s) for s in l):\n",
    "        p.append(name)\n",
    "    elif any(\"President\" in str(s) for s in l):\n",
    "        p.append(name)\n",
    "    elif any(\"Presidency\" in str(s) for s in l):\n",
    "        p.append(name)\n",
    "    elif any(\"presidency\" in str(s) for s in l):\n",
    "        p.append(name)            \n",
    "    elif any(\"président\" in str(s) for s in l):\n",
    "        p.append(name) \n"
   ]
  },
  {
   "cell_type": "code",
   "execution_count": 992,
   "metadata": {},
   "outputs": [
    {
     "data": {
      "text/plain": [
       "['Trevornoah',\n",
       " 'Julius_S_Malema',\n",
       " 'News24',\n",
       " 'MbuyiseniNdlozi',\n",
       " 'euphonik',\n",
       " 'helenzille',\n",
       " 'MTVBaseAfrica',\n",
       " 'OfficialCSA',\n",
       " 'StateHouseKenya',\n",
       " '5FM',\n",
       " 'loyisogola',\n",
       " 'mailandguardian']"
      ]
     },
     "execution_count": 992,
     "metadata": {},
     "output_type": "execute_result"
    }
   ],
   "source": [
    "flattened_p = [y for x in p for y in x]\n",
    "for element in flattened_p:\n",
    "    selected_list.remove(element)\n",
    "selected_list"
   ]
  },
  {
   "cell_type": "code",
   "execution_count": 993,
   "metadata": {},
   "outputs": [
    {
     "data": {
      "text/html": [
       "<div>\n",
       "<style scoped>\n",
       "    .dataframe tbody tr th:only-of-type {\n",
       "        vertical-align: middle;\n",
       "    }\n",
       "\n",
       "    .dataframe tbody tr th {\n",
       "        vertical-align: top;\n",
       "    }\n",
       "\n",
       "    .dataframe thead th {\n",
       "        text-align: right;\n",
       "    }\n",
       "</style>\n",
       "<table border=\"1\" class=\"dataframe\">\n",
       "  <thead>\n",
       "    <tr style=\"text-align: right;\">\n",
       "      <th></th>\n",
       "      <th>screen_name</th>\n",
       "      <th>description</th>\n",
       "    </tr>\n",
       "  </thead>\n",
       "  <tbody>\n",
       "    <tr>\n",
       "      <td>0</td>\n",
       "      <td>MbuyiseniNdlozi</td>\n",
       "      <td>EFF Commissar &amp; Member of Parliament - @EFFSou...</td>\n",
       "    </tr>\n",
       "    <tr>\n",
       "      <td>1</td>\n",
       "      <td>euphonik</td>\n",
       "      <td>LIFE | MUSIC | PROPERTY | BRANDS | CULTURE Con...</td>\n",
       "    </tr>\n",
       "    <tr>\n",
       "      <td>2</td>\n",
       "      <td>OfficialCSA</td>\n",
       "      <td>The official Cricket South Africa Twitter prof...</td>\n",
       "    </tr>\n",
       "    <tr>\n",
       "      <td>3</td>\n",
       "      <td>MTVBaseAfrica</td>\n",
       "      <td>Uniting Africa through music &amp; taking African ...</td>\n",
       "    </tr>\n",
       "    <tr>\n",
       "      <td>4</td>\n",
       "      <td>loyisogola</td>\n",
       "      <td>2 time Emmy nominated stand up comedian from S...</td>\n",
       "    </tr>\n",
       "    <tr>\n",
       "      <td>5</td>\n",
       "      <td>5FM</td>\n",
       "      <td>Using the power of music to bring youthful Sou...</td>\n",
       "    </tr>\n",
       "    <tr>\n",
       "      <td>6</td>\n",
       "      <td>mailandguardian</td>\n",
       "      <td>News, comment and analysis from Africa's best ...</td>\n",
       "    </tr>\n",
       "    <tr>\n",
       "      <td>7</td>\n",
       "      <td>helenzille</td>\n",
       "      <td>GodZille, GranZille, ex-Premier, ex-Mayor of C...</td>\n",
       "    </tr>\n",
       "    <tr>\n",
       "      <td>8</td>\n",
       "      <td>Julius_S_Malema</td>\n",
       "      <td>Commander in Chief of Economic Freedom Fighter...</td>\n",
       "    </tr>\n",
       "    <tr>\n",
       "      <td>9</td>\n",
       "      <td>News24</td>\n",
       "      <td>South Africa's premier online news resource. F...</td>\n",
       "    </tr>\n",
       "    <tr>\n",
       "      <td>10</td>\n",
       "      <td>Trevornoah</td>\n",
       "      <td>Comedian from South Africa. I was in the crowd...</td>\n",
       "    </tr>\n",
       "    <tr>\n",
       "      <td>11</td>\n",
       "      <td>StateHouseKenya</td>\n",
       "      <td>NaN</td>\n",
       "    </tr>\n",
       "  </tbody>\n",
       "</table>\n",
       "</div>"
      ],
      "text/plain": [
       "        screen_name                                        description\n",
       "0   MbuyiseniNdlozi  EFF Commissar & Member of Parliament - @EFFSou...\n",
       "1          euphonik  LIFE | MUSIC | PROPERTY | BRANDS | CULTURE Con...\n",
       "2       OfficialCSA  The official Cricket South Africa Twitter prof...\n",
       "3     MTVBaseAfrica  Uniting Africa through music & taking African ...\n",
       "4        loyisogola  2 time Emmy nominated stand up comedian from S...\n",
       "5               5FM  Using the power of music to bring youthful Sou...\n",
       "6   mailandguardian  News, comment and analysis from Africa's best ...\n",
       "7        helenzille  GodZille, GranZille, ex-Premier, ex-Mayor of C...\n",
       "8   Julius_S_Malema  Commander in Chief of Economic Freedom Fighter...\n",
       "9            News24  South Africa's premier online news resource. F...\n",
       "10       Trevornoah  Comedian from South Africa. I was in the crowd...\n",
       "11  StateHouseKenya                                                NaN"
      ]
     },
     "execution_count": 993,
     "metadata": {},
     "output_type": "execute_result"
    }
   ],
   "source": [
    "r = description_df.loc[description_df['screen_name'].isin(selected_list)]\n",
    "r"
   ]
  },
  {
   "cell_type": "code",
   "execution_count": 994,
   "metadata": {},
   "outputs": [
    {
     "data": {
      "text/html": [
       "<style  type=\"text/css\" >\n",
       "</style><table id=\"T_b0df83d8_c999_11ea_bf53_8f097d75c5c3\" ><thead>    <tr>        <th class=\"blank level0\" ></th>        <th class=\"col_heading level0 col0\" >screen_name</th>        <th class=\"col_heading level0 col1\" >description</th>    </tr></thead><tbody>\n",
       "                <tr>\n",
       "                        <th id=\"T_b0df83d8_c999_11ea_bf53_8f097d75c5c3level0_row0\" class=\"row_heading level0 row0\" >0</th>\n",
       "                        <td id=\"T_b0df83d8_c999_11ea_bf53_8f097d75c5c3row0_col0\" class=\"data row0 col0\" >MbuyiseniNdlozi</td>\n",
       "                        <td id=\"T_b0df83d8_c999_11ea_bf53_8f097d75c5c3row0_col1\" class=\"data row0 col1\" >EFF Commissar & Member of Parliament - @EFFSouthAfrica Economic Freedom In Our Life Time. Supporter of BDS - Free Palestine!</td>\n",
       "            </tr>\n",
       "            <tr>\n",
       "                        <th id=\"T_b0df83d8_c999_11ea_bf53_8f097d75c5c3level0_row1\" class=\"row_heading level0 row1\" >1</th>\n",
       "                        <td id=\"T_b0df83d8_c999_11ea_bf53_8f097d75c5c3row1_col0\" class=\"data row1 col0\" >euphonik</td>\n",
       "                        <td id=\"T_b0df83d8_c999_11ea_bf53_8f097d75c5c3row1_col1\" class=\"data row1 col1\" >LIFE | MUSIC | PROPERTY | BRANDS | CULTURE Contact: hello@euphonik.dj / +27797993736</td>\n",
       "            </tr>\n",
       "            <tr>\n",
       "                        <th id=\"T_b0df83d8_c999_11ea_bf53_8f097d75c5c3level0_row2\" class=\"row_heading level0 row2\" >2</th>\n",
       "                        <td id=\"T_b0df83d8_c999_11ea_bf53_8f097d75c5c3row2_col0\" class=\"data row2 col0\" >OfficialCSA</td>\n",
       "                        <td id=\"T_b0df83d8_c999_11ea_bf53_8f097d75c5c3row2_col1\" class=\"data row2 col1\" >The official Cricket South Africa Twitter profile. CSA are the custodians of cricket in South Africa.</td>\n",
       "            </tr>\n",
       "            <tr>\n",
       "                        <th id=\"T_b0df83d8_c999_11ea_bf53_8f097d75c5c3level0_row3\" class=\"row_heading level0 row3\" >3</th>\n",
       "                        <td id=\"T_b0df83d8_c999_11ea_bf53_8f097d75c5c3row3_col0\" class=\"data row3 col0\" >MTVBaseAfrica</td>\n",
       "                        <td id=\"T_b0df83d8_c999_11ea_bf53_8f097d75c5c3row3_col1\" class=\"data row3 col1\" >Uniting Africa through music & taking African music to the world! Follow @MTVBaseSouth @MTVBaseEast @MTVNewsISH @MTVBaseWest @MTVBaseFranco</td>\n",
       "            </tr>\n",
       "            <tr>\n",
       "                        <th id=\"T_b0df83d8_c999_11ea_bf53_8f097d75c5c3level0_row4\" class=\"row_heading level0 row4\" >4</th>\n",
       "                        <td id=\"T_b0df83d8_c999_11ea_bf53_8f097d75c5c3row4_col0\" class=\"data row4 col0\" >loyisogola</td>\n",
       "                        <td id=\"T_b0df83d8_c999_11ea_bf53_8f097d75c5c3row4_col1\" class=\"data row4 col1\" >2 time Emmy nominated stand up comedian from South Africa.      info@loyisogola.com</td>\n",
       "            </tr>\n",
       "            <tr>\n",
       "                        <th id=\"T_b0df83d8_c999_11ea_bf53_8f097d75c5c3level0_row5\" class=\"row_heading level0 row5\" >5</th>\n",
       "                        <td id=\"T_b0df83d8_c999_11ea_bf53_8f097d75c5c3row5_col0\" class=\"data row5 col0\" >5FM</td>\n",
       "                        <td id=\"T_b0df83d8_c999_11ea_bf53_8f097d75c5c3row5_col1\" class=\"data row5 col1\" >Using the power of music to bring youthful South Africans together! Live Loud with us on radio, web, DSTV 805 or our mobile app. WhatsApp: 0825505151</td>\n",
       "            </tr>\n",
       "            <tr>\n",
       "                        <th id=\"T_b0df83d8_c999_11ea_bf53_8f097d75c5c3level0_row6\" class=\"row_heading level0 row6\" >6</th>\n",
       "                        <td id=\"T_b0df83d8_c999_11ea_bf53_8f097d75c5c3row6_col0\" class=\"data row6 col0\" >mailandguardian</td>\n",
       "                        <td id=\"T_b0df83d8_c999_11ea_bf53_8f097d75c5c3row6_col1\" class=\"data row6 col1\" >News, comment and analysis from Africa's best read. Retweet not endorsement. Need reliable info on Covid-19? https://t.co/Cyj52wvMy1</td>\n",
       "            </tr>\n",
       "            <tr>\n",
       "                        <th id=\"T_b0df83d8_c999_11ea_bf53_8f097d75c5c3level0_row7\" class=\"row_heading level0 row7\" >7</th>\n",
       "                        <td id=\"T_b0df83d8_c999_11ea_bf53_8f097d75c5c3row7_col0\" class=\"data row7 col0\" >helenzille</td>\n",
       "                        <td id=\"T_b0df83d8_c999_11ea_bf53_8f097d75c5c3row7_col1\" class=\"data row7 col1\" >GodZille, GranZille, ex-Premier, ex-Mayor of Cape Town, Liberal, Author #NotWithoutAFight. Re-Tweets and Likes are NOT necessarily endorsements.</td>\n",
       "            </tr>\n",
       "            <tr>\n",
       "                        <th id=\"T_b0df83d8_c999_11ea_bf53_8f097d75c5c3level0_row8\" class=\"row_heading level0 row8\" >8</th>\n",
       "                        <td id=\"T_b0df83d8_c999_11ea_bf53_8f097d75c5c3row8_col0\" class=\"data row8 col0\" >Julius_S_Malema</td>\n",
       "                        <td id=\"T_b0df83d8_c999_11ea_bf53_8f097d75c5c3row8_col1\" class=\"data row8 col1\" >Commander in Chief of Economic Freedom Fighters [EFF] and a Revolutionary activist for radical change in Africa. No Facebook Account. fools get blocked</td>\n",
       "            </tr>\n",
       "            <tr>\n",
       "                        <th id=\"T_b0df83d8_c999_11ea_bf53_8f097d75c5c3level0_row9\" class=\"row_heading level0 row9\" >9</th>\n",
       "                        <td id=\"T_b0df83d8_c999_11ea_bf53_8f097d75c5c3row9_col0\" class=\"data row9 col0\" >News24</td>\n",
       "                        <td id=\"T_b0df83d8_c999_11ea_bf53_8f097d75c5c3row9_col1\" class=\"data row9 col1\" >South Africa's premier online news resource. Follow @TeamNews24 for all the action from our journalists 🇿🇦 SA's most trusted news source - Reuters Institute</td>\n",
       "            </tr>\n",
       "            <tr>\n",
       "                        <th id=\"T_b0df83d8_c999_11ea_bf53_8f097d75c5c3level0_row10\" class=\"row_heading level0 row10\" >10</th>\n",
       "                        <td id=\"T_b0df83d8_c999_11ea_bf53_8f097d75c5c3row10_col0\" class=\"data row10 col0\" >Trevornoah</td>\n",
       "                        <td id=\"T_b0df83d8_c999_11ea_bf53_8f097d75c5c3row10_col1\" class=\"data row10 col1\" >Comedian from South Africa. I was in the crowd when Rafiki held Simba over the edge of the cliff, like an African Michael Jackson.</td>\n",
       "            </tr>\n",
       "            <tr>\n",
       "                        <th id=\"T_b0df83d8_c999_11ea_bf53_8f097d75c5c3level0_row11\" class=\"row_heading level0 row11\" >11</th>\n",
       "                        <td id=\"T_b0df83d8_c999_11ea_bf53_8f097d75c5c3row11_col0\" class=\"data row11 col0\" >StateHouseKenya</td>\n",
       "                        <td id=\"T_b0df83d8_c999_11ea_bf53_8f097d75c5c3row11_col1\" class=\"data row11 col1\" >nan</td>\n",
       "            </tr>\n",
       "    </tbody></table>"
      ],
      "text/plain": [
       "<pandas.io.formats.style.Styler at 0x7f7a0be97250>"
      ]
     },
     "execution_count": 994,
     "metadata": {},
     "output_type": "execute_result"
    }
   ],
   "source": [
    "# cm = sns.light_palette(\"red\", as_cmap=True)\n",
    "t = r.style.background_gradient()\n",
    "t"
   ]
  }
 ],
 "metadata": {
  "kernelspec": {
   "display_name": "Python 3",
   "language": "python",
   "name": "python3"
  },
  "language_info": {
   "codemirror_mode": {
    "name": "ipython",
    "version": 3
   },
   "file_extension": ".py",
   "mimetype": "text/x-python",
   "name": "python",
   "nbconvert_exporter": "python",
   "pygments_lexer": "ipython3",
   "version": "3.7.4"
  }
 },
 "nbformat": 4,
 "nbformat_minor": 2
}
